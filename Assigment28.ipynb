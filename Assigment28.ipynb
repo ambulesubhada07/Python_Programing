{
  "nbformat": 4,
  "nbformat_minor": 0,
  "metadata": {
    "colab": {
      "provenance": [],
      "authorship_tag": "ABX9TyMGjdFYct1grePF91L+4h/2",
      "include_colab_link": true
    },
    "kernelspec": {
      "name": "python3",
      "display_name": "Python 3"
    },
    "language_info": {
      "name": "python"
    }
  },
  "cells": [
    {
      "cell_type": "markdown",
      "metadata": {
        "id": "view-in-github",
        "colab_type": "text"
      },
      "source": [
        "<a href=\"https://colab.research.google.com/github/ambulesubhada07/Python_Programing/blob/main/Assigment28.ipynb\" target=\"_parent\"><img src=\"https://colab.research.google.com/assets/colab-badge.svg\" alt=\"Open In Colab\"/></a>"
      ]
    },
    {
      "cell_type": "code",
      "execution_count": 1,
      "metadata": {
        "colab": {
          "base_uri": "https://localhost:8080/"
        },
        "id": "dnsiX9xp_C_A",
        "outputId": "eb63ed42-ed13-41dc-cf7a-d4302eabf0bb"
      },
      "outputs": [
        {
          "output_type": "stream",
          "name": "stdout",
          "text": [
            "Hii Subhada! \n"
          ]
        }
      ],
      "source": [
        "#22. Write a Python program to remove a newline in Python.\n",
        "newline = \"Hii Subhada!\\n\"\n",
        "newline = newline.replace(\"\\n\", \" \")\n",
        "print(newline)"
      ]
    },
    {
      "cell_type": "code",
      "source": [
        "#23. Write a Python program to swap commas and dots in a string\n",
        "#○ Sample string: \"32.054,23\"\n",
        "#○ Expected Output: \"32,054.23\"\n",
        "sample_string = \"32.054,23\"\n",
        "Expected_string = sample_string.replace('.','*').replace(',','.').replace('*',',')\n",
        "print(\"Original string:\",sample_string)\n",
        "print(\"Expected_String:\",Expected_string)"
      ],
      "metadata": {
        "colab": {
          "base_uri": "https://localhost:8080/"
        },
        "id": "5NgFMLaFAUja",
        "outputId": "7adb073a-47d7-4237-99e5-93f1619a873e"
      },
      "execution_count": 4,
      "outputs": [
        {
          "output_type": "stream",
          "name": "stdout",
          "text": [
            "Original string: 32.054,23\n",
            "Expected_String: 32,054.23\n"
          ]
        }
      ]
    },
    {
      "cell_type": "code",
      "source": [],
      "metadata": {
        "id": "GyQcvD9ejnTH"
      },
      "execution_count": 10,
      "outputs": []
    },
    {
      "cell_type": "code",
      "source": [
        "sample_string = \"32.054,23\"\n",
        "swap_string= sample_string.replace('.','*').replace(',','.').replace('*',',')\n",
        "print(swap_string)"
      ],
      "metadata": {
        "colab": {
          "base_uri": "https://localhost:8080/"
        },
        "id": "G-c0-e1Bmpxr",
        "outputId": "34425524-85bb-4431-f2c9-2691f4c86291"
      },
      "execution_count": 10,
      "outputs": [
        {
          "output_type": "stream",
          "name": "stdout",
          "text": [
            "32,054.23\n"
          ]
        }
      ]
    },
    {
      "cell_type": "code",
      "source": [
        "#24. Write a Python program to find the first repeated character in a given string\n",
        "def first_repeated_char(s):\n",
        " seen = set()\n",
        " for char in s:\n",
        "   if char in seen:\n",
        "      return char\n",
        "   seen.add(char)\n",
        " return None\n",
        "input_string = \"abca\"\n",
        "result = first_repeated_char(input_string)\n",
        "if result:\n",
        "   print(\"First repeated character:\", result)\n",
        "else:\n",
        "   print(\"No repeated characters found.\")\n",
        "\n",
        "\n",
        "\n",
        "\n"
      ],
      "metadata": {
        "colab": {
          "base_uri": "https://localhost:8080/"
        },
        "id": "-arCnM7mm_73",
        "outputId": "c74771a3-4eaf-4786-af27-7f8300aadf6c"
      },
      "execution_count": 12,
      "outputs": [
        {
          "output_type": "stream",
          "name": "stdout",
          "text": [
            "First repeated character: a\n"
          ]
        }
      ]
    },
    {
      "cell_type": "code",
      "source": [],
      "metadata": {
        "collapsed": true,
        "id": "GbgCLUizuHHu"
      },
      "execution_count": 25,
      "outputs": []
    },
    {
      "cell_type": "code",
      "source": [],
      "metadata": {
        "id": "xjtMPuBw4dV3"
      },
      "execution_count": 25,
      "outputs": []
    },
    {
      "cell_type": "code",
      "source": [
        "#25. Write a Python program to find the second most repeated word in a given string\n",
        "\n",
        "def second_most_repeated_word(s):\n",
        "    words = s.split()\n",
        "    word_count = {}\n",
        "\n",
        "    # Count occurrences of each word\n",
        "    for word in words:\n",
        "        word_count[word] = word_count.get(word, 0) + 1\n",
        "\n",
        "    # Sort words by count in descending order\n",
        "    sorted_words = sorted(word_count, key=word_count.get, reverse=True)\n",
        "\n",
        "    # Check if there are at least two unique words\n",
        "    if len(sorted_words) < 2:\n",
        "        return None\n",
        "\n",
        "    # Return the second most repeated word\n",
        "    return sorted_words[1]\n",
        "\n",
        "# Input string\n",
        "input_string = \"apple banana apple orange banana apple orange banana\"\n",
        "\n",
        "# Find and print the second most repeated word\n",
        "result = second_most_repeated_word(input_string)\n",
        "\n",
        "if result:\n",
        "    print(f\"Second most repeated word: {result}\")\n",
        "else:\n",
        "    print(\"No second most repeated word found.\")"
      ],
      "metadata": {
        "colab": {
          "base_uri": "https://localhost:8080/"
        },
        "id": "EU1CiIW5uHPr",
        "outputId": "3b73ca69-464f-42ef-817c-9ef58a3e0b07"
      },
      "execution_count": 26,
      "outputs": [
        {
          "output_type": "stream",
          "name": "stdout",
          "text": [
            "Second most repeated word: banana\n"
          ]
        }
      ]
    },
    {
      "cell_type": "code",
      "source": [
        "#26. Python program to Count Even and Odd numbers in a string\n",
        "def count_even_odd_numbers(s):\n",
        "    digit = [int(char) for char in s if char.isdigit()]\n",
        "    even_count = sum(1 for num in digit if num % 2 ==0)\n",
        "    odd_count = sum(1 for num in digit if num % 2 != 0)\n",
        "\n",
        "    return even_count, odd_count\n",
        "\n",
        "input_string = \"abc1234xyz567\"\n",
        "even_count, odd_count = count_even_odd_numbers(input_string)\n",
        "print(f\"Even number count:{even_count}\")\n",
        "print(f\"odd number count:{odd_count}\")"
      ],
      "metadata": {
        "colab": {
          "base_uri": "https://localhost:8080/"
        },
        "id": "MjjAMfaKuHW9",
        "outputId": "9b2ccc29-b51a-4e2a-deb2-66852023da91"
      },
      "execution_count": 29,
      "outputs": [
        {
          "output_type": "stream",
          "name": "stdout",
          "text": [
            "Even number count:3\n",
            "odd number count:4\n"
          ]
        }
      ]
    },
    {
      "cell_type": "code",
      "source": [
        "#27. How do you check if a string contains only digits?\n",
        "input_string = \"12345\"\n",
        "if input_string.isdigit():\n",
        "  print(\"The string contains only digits.\")\n",
        "else:\n",
        "  print(\"The string contains non-digit charecters.\")"
      ],
      "metadata": {
        "colab": {
          "base_uri": "https://localhost:8080/"
        },
        "id": "aV6FQdXGQuv_",
        "outputId": "e94fabcf-199f-4b47-cdae-db148d678054"
      },
      "execution_count": 30,
      "outputs": [
        {
          "output_type": "stream",
          "name": "stdout",
          "text": [
            "The string contains only digits.\n"
          ]
        }
      ]
    },
    {
      "cell_type": "code",
      "source": [
        "#28. How do you remove a given character/word from String?\n",
        "input_string = \"hello world\"\n",
        "char_to_remove = \"o\"\n",
        "result_string = input_string.replace(char_to_remove, \"\")\n",
        "\n",
        "print(\"String after removing charecter:\", result_string)"
      ],
      "metadata": {
        "colab": {
          "base_uri": "https://localhost:8080/"
        },
        "id": "Nkk2_O-_8UQ4",
        "outputId": "3510c7d2-dada-42fc-ef39-08e15653ad3c"
      },
      "execution_count": 31,
      "outputs": [
        {
          "output_type": "stream",
          "name": "stdout",
          "text": [
            "String after removing charecter: hell wrld\n"
          ]
        }
      ]
    },
    {
      "cell_type": "code",
      "source": [
        "#29. Write a Python program to remove the characters which have odd index values of a given string\n",
        "def remove_odd_index_chars(s):\n",
        "    return s[::2]\n",
        "\n",
        "input_string = \"helso subh\"\n",
        "result_string = remove_odd_index_chars(input_string)\n",
        "print(\"string after removing charecter at odd indeces:\", result_string)\n"
      ],
      "metadata": {
        "colab": {
          "base_uri": "https://localhost:8080/"
        },
        "id": "UzQOJ8oHFnyk",
        "outputId": "5b2c0826-3eac-4d97-d04d-fe7e7e6c0a48"
      },
      "execution_count": 35,
      "outputs": [
        {
          "output_type": "stream",
          "name": "stdout",
          "text": [
            "string after removing charecter at odd indeces: hlosb\n"
          ]
        }
      ]
    },
    {
      "cell_type": "code",
      "source": [
        "#30. Write a Python function to reverses a string if its length is a multiple of 5\n",
        "def reverse_multiple(s):\n",
        "    if len(s) % 7 == 0:\n",
        "        return s[::-1]\n",
        "    else:\n",
        "        return s\n",
        "\n",
        "input_string = \"subhada\"\n",
        "result_string = reverse_multiple(input_string)\n",
        "print(\"result:\", result_string)\n"
      ],
      "metadata": {
        "colab": {
          "base_uri": "https://localhost:8080/"
        },
        "id": "x2t5Q5LDFn5Z",
        "outputId": "a06ece0a-6dc2-4bb3-a601-b388e5defe50"
      },
      "execution_count": 37,
      "outputs": [
        {
          "output_type": "stream",
          "name": "stdout",
          "text": [
            "result: adahbus\n"
          ]
        }
      ]
    },
    {
      "cell_type": "code",
      "source": [
        "#31. Write a Python program to format a number with a percentage(0.05 >> 5%)\n",
        "def format_percentage(num):\n",
        "  return \"{:.0%}\".format(num)\n",
        "\n",
        "input_number = 0.05\n",
        "result = format_percentage(input_number)\n",
        "print(\"Formatted percentage:\", result)\n",
        "\n"
      ],
      "metadata": {
        "colab": {
          "base_uri": "https://localhost:8080/"
        },
        "id": "ujcLqhumJwTG",
        "outputId": "439731b3-0ac4-4e6e-dad9-de0a1bede82f"
      },
      "execution_count": 40,
      "outputs": [
        {
          "output_type": "stream",
          "name": "stdout",
          "text": [
            "Formatted percentage: 5%\n"
          ]
        }
      ]
    },
    {
      "cell_type": "code",
      "source": [
        "#32. Write a Python program to reverse words in a string\n",
        "def reverse_words(s):\n",
        "    words = s.split()\n",
        "    reversed_words = words[::-1]\n",
        "    return \" \" .join(reversed_words)\n",
        "input_string = \"Hello world python\"\n",
        "result = reverse_words(input_string)\n",
        "print(\"reversed words string:\", result)"
      ],
      "metadata": {
        "colab": {
          "base_uri": "https://localhost:8080/"
        },
        "id": "_UQf8FuDJwah",
        "outputId": "4363c2f0-206d-4d5b-9f41-044028812d80"
      },
      "execution_count": 42,
      "outputs": [
        {
          "output_type": "stream",
          "name": "stdout",
          "text": [
            "reversed words string: python world Hello\n"
          ]
        }
      ]
    },
    {
      "cell_type": "code",
      "source": [
        "#33. Write a Python program to swap cases of a given string\n",
        "def swap_case(s):\n",
        "    return s.swapcase()\n",
        "\n",
        "input_string = \" Hello worLd PYTHON\"\n",
        "result = swap_case(input_string)\n",
        "print(\"Swapped case string:\",result)"
      ],
      "metadata": {
        "colab": {
          "base_uri": "https://localhost:8080/"
        },
        "id": "am9Kax1RJweA",
        "outputId": "47e9eeb6-53ff-4c81-f171-fe3ac743b475"
      },
      "execution_count": 43,
      "outputs": [
        {
          "output_type": "stream",
          "name": "stdout",
          "text": [
            "Swapped case string:  hELLO WORlD python\n"
          ]
        }
      ]
    },
    {
      "cell_type": "code",
      "source": [
        "#34. Write a Python program to remove spaces from a given string\n",
        "def remove_spaces(s):\n",
        "    return s.replace(\" \", \"\")\n",
        "input_string = \"Hello Subhada Ambule\"\n",
        "result = remove_spaces(input_string)\n",
        "print(\"String after removing spaces:\",result)\n"
      ],
      "metadata": {
        "colab": {
          "base_uri": "https://localhost:8080/"
        },
        "id": "JrIMIi_2Jwhn",
        "outputId": "d752e56e-b459-4c91-f5d4-6f9990427f19"
      },
      "execution_count": 44,
      "outputs": [
        {
          "output_type": "stream",
          "name": "stdout",
          "text": [
            "String after removing spaces: HelloSubhadaAmbule\n"
          ]
        }
      ]
    },
    {
      "cell_type": "code",
      "source": [
        "#35. Write a Python program to remove duplicate characters of a given string\n"
      ],
      "metadata": {
        "id": "GHjL7oTEJwld"
      },
      "execution_count": null,
      "outputs": []
    },
    {
      "cell_type": "code",
      "source": [
        "def remove_duplicates(s):\n",
        "  seen = set ()\n",
        "  result = []\n",
        "  for char in s:\n",
        "    if char not in seen:\n",
        "      seen.add(char)\n",
        "      result.append(char)\n",
        "  return ''.join(result)\n",
        "\n",
        "input_string = input(\"Enter a string:\")\n",
        "print(\"String after removing duplicate:\", remove_duplicates(input_string))\n",
        "\n"
      ],
      "metadata": {
        "colab": {
          "base_uri": "https://localhost:8080/"
        },
        "id": "aqwPf3eUJwqt",
        "outputId": "f333a190-d425-4aa7-94b9-4fc82d4bf537"
      },
      "execution_count": 1,
      "outputs": [
        {
          "output_type": "stream",
          "name": "stdout",
          "text": [
            "Enter a string:subhadaambule\n",
            "String after removing duplicate: subhadmle\n"
          ]
        }
      ]
    },
    {
      "cell_type": "code",
      "source": [
        "#36. Write a Python Program to find the area of a circle\n",
        "circle_area = lambda r: 3.14 * r** 2\n",
        "radius = float(input(\"Enter the radius of the circle:\"))\n",
        "area = circle_area(radius)"
      ],
      "metadata": {
        "colab": {
          "base_uri": "https://localhost:8080/"
        },
        "id": "M0T6T8r0vj39",
        "outputId": "12f9367c-3b1a-48e7-f97b-1665bc7fd322"
      },
      "execution_count": 2,
      "outputs": [
        {
          "name": "stdout",
          "output_type": "stream",
          "text": [
            "Enter the radius of the circle:7\n"
          ]
        }
      ]
    },
    {
      "cell_type": "code",
      "source": [
        "#37. Python Program to find Sum of squares of first n natural numbers\n",
        "def sum_of_squares(n):\n",
        "    return sum(i**2 for i in range(1, n+1))\n",
        "n = int(input(\"Enter a number\"))\n",
        "print(f\"sum of first {n} natural number : {sum_of_squares(n)}\")\n"
      ],
      "metadata": {
        "colab": {
          "base_uri": "https://localhost:8080/"
        },
        "id": "Ijy7RMfAvj8S",
        "outputId": "af7e4f51-277e-40e5-cd49-8c593ec85a50"
      },
      "execution_count": 24,
      "outputs": [
        {
          "output_type": "stream",
          "name": "stdout",
          "text": [
            "Enter a number8\n",
            "sum of first 8 natural number : 204\n"
          ]
        }
      ]
    },
    {
      "cell_type": "code",
      "source": [
        "#38. Python Program to find cube sum of first n natural numbers\n",
        "def cube_sum(n):\n",
        "    return sum(i**3 for i in range(1, n+1))\n",
        "n = int(input(\"Enter a number\"))\n",
        "print(f\"sum of first {n} natural number: {cube_sum(n)}\")"
      ],
      "metadata": {
        "colab": {
          "base_uri": "https://localhost:8080/"
        },
        "id": "OITm5nP4vj_h",
        "outputId": "351c6da6-fc47-40e1-cac7-f556c3dbf316"
      },
      "execution_count": 23,
      "outputs": [
        {
          "output_type": "stream",
          "name": "stdout",
          "text": [
            "Enter a number8\n",
            "sum of first 8 natural number: 1296\n"
          ]
        }
      ]
    },
    {
      "cell_type": "code",
      "source": [
        "#39. Python Program to find simple interest and compound interest\n",
        "P = float(input(\"Enter the principal amount:\"))\n",
        "R = float(input(\"Enter the rate of interest:\"))\n",
        "T = float(input(\"Enter the time period in years)\"))\n",
        "SI = (P*R*T)/100\n",
        "A = P * (1 + R/100)**T\n",
        "CI = A - P\n",
        "print(\"Simple Interest:\", SI)\n",
        "print(\"Compound Interest:\", CI)\n"
      ],
      "metadata": {
        "colab": {
          "base_uri": "https://localhost:8080/"
        },
        "id": "HaFtYCsNvkCx",
        "outputId": "803e1845-e03d-4af5-9f30-ac52809249c1"
      },
      "execution_count": 25,
      "outputs": [
        {
          "output_type": "stream",
          "name": "stdout",
          "text": [
            "Enter the principal amount:2000\n",
            "Enter the rate of interest:8\n",
            "Enter the time period in years)3\n",
            "Simple Interest: 480.0\n",
            "Compound Interest: 519.4240000000004\n"
          ]
        }
      ]
    },
    {
      "cell_type": "code",
      "source": [
        "#40. Python program to check whether a number is Prime or not\n",
        "num = int(input(\"Enter a number:\"))\n",
        "if num < 2:\n",
        "  print(\"Not a prime number.\")\n",
        "else:\n",
        "  for i in range(2, num):\n",
        "    if num % i == 0:\n",
        "      print(\"Not a prime number.\")\n",
        "      break\n",
        "  else:\n",
        "    print(\"prime number.\")\n"
      ],
      "metadata": {
        "colab": {
          "base_uri": "https://localhost:8080/"
        },
        "id": "Yvpzmo39vkGT",
        "outputId": "c3fbea51-0a03-4280-b750-804ac3dcb151"
      },
      "execution_count": 27,
      "outputs": [
        {
          "output_type": "stream",
          "name": "stdout",
          "text": [
            "Enter a number:8\n",
            "Not a prime number.\n"
          ]
        }
      ]
    }
  ]
}