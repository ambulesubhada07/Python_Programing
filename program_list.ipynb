{
  "nbformat": 4,
  "nbformat_minor": 0,
  "metadata": {
    "colab": {
      "provenance": [],
      "toc_visible": true,
      "authorship_tag": "ABX9TyOs4XIyEuUGxq8mSo0Dnbhx",
      "include_colab_link": true
    },
    "kernelspec": {
      "name": "python3",
      "display_name": "Python 3"
    },
    "language_info": {
      "name": "python"
    }
  },
  "cells": [
    {
      "cell_type": "markdown",
      "metadata": {
        "id": "view-in-github",
        "colab_type": "text"
      },
      "source": [
        "<a href=\"https://colab.research.google.com/github/ambulesubhada07/Python_Programing/blob/main/program_list.ipynb\" target=\"_parent\"><img src=\"https://colab.research.google.com/assets/colab-badge.svg\" alt=\"Open In Colab\"/></a>"
      ]
    },
    {
      "cell_type": "code",
      "source": [
        "#1. Write a Python program to sum all the items in a list"
      ],
      "metadata": {
        "id": "hAgyBoQiRWk9"
      },
      "execution_count": null,
      "outputs": []
    },
    {
      "cell_type": "code",
      "execution_count": 1,
      "metadata": {
        "colab": {
          "base_uri": "https://localhost:8080/"
        },
        "id": "qQ7peC__r4jU",
        "outputId": "d1c668bb-2f57-4642-d722-f36b00410e6a"
      },
      "outputs": [
        {
          "output_type": "stream",
          "name": "stdout",
          "text": [
            "sum of all the item in the list: 150\n"
          ]
        }
      ],
      "source": [
        "my_list = [10, 20 , 30, 40, 50]\n",
        "total = sum(my_list)\n",
        "print(\"sum of all the item in the list:\", total)"
      ]
    },
    {
      "cell_type": "code",
      "source": [
        "#2. Write a Python program to multiplies all the items in a list.\n",
        "my_list = [2, 3, 4, 5]\n",
        "result = 1\n",
        "for item in my_list:\n",
        "  result *= item\n",
        "  print(\"multiplies of all item in the list:\", result)"
      ],
      "metadata": {
        "colab": {
          "base_uri": "https://localhost:8080/"
        },
        "id": "vWUkIGW0RpB-",
        "outputId": "fb173fc2-7520-43eb-eec0-d1e303964faf"
      },
      "execution_count": 4,
      "outputs": [
        {
          "output_type": "stream",
          "name": "stdout",
          "text": [
            "multiplies of all item in the list: 2\n",
            "multiplies of all item in the list: 6\n",
            "multiplies of all item in the list: 24\n",
            "multiplies of all item in the list: 120\n"
          ]
        }
      ]
    },
    {
      "cell_type": "code",
      "source": [
        "#3. Write a Python program to get the largest number from a list.\n",
        "my_list = [10, 30, 45, 24, 57, 45]\n",
        "largest = max(my_list)\n",
        "print(\"largest number from a list: \", largest)"
      ],
      "metadata": {
        "colab": {
          "base_uri": "https://localhost:8080/"
        },
        "id": "R7lzBjBUStAd",
        "outputId": "b77d616d-2a6a-4bd4-acb2-a8a5ece32152"
      },
      "execution_count": 5,
      "outputs": [
        {
          "output_type": "stream",
          "name": "stdout",
          "text": [
            "largest number from a list:  57\n"
          ]
        }
      ]
    },
    {
      "cell_type": "code",
      "source": [
        "#4. Write a Python program to get the smallest number from a list.\n",
        "my_list =[23, 45, 13, 40, 56]\n",
        "smaller = min(my_list)\n",
        "print(\"smallest numebr from a list:\", smaller)"
      ],
      "metadata": {
        "colab": {
          "base_uri": "https://localhost:8080/"
        },
        "id": "qDtGYkVRTZGj",
        "outputId": "6828ac5a-25ba-4500-94f8-6d6963f382ac"
      },
      "execution_count": 6,
      "outputs": [
        {
          "output_type": "stream",
          "name": "stdout",
          "text": [
            "smallest numebr from a list: 13\n"
          ]
        }
      ]
    },
    {
      "cell_type": "code",
      "source": [
        "#5. Write a Python program to count the number of strings where the string length\n",
        "#is 2 or more and the first and last character are same from a given list of strings.\n",
        "#Sample List : ['abc', 'xyz', 'aba', '1221']\n",
        "#Expected Result : 2\n",
        "my_list = ['abc', 'xyz', 'aba', '1221']\n",
        "\n",
        "count = 0\n",
        "for item in my_list:\n",
        "  if len(item) >=2 and item[0] == item[-1]:\n",
        "    count +=1\n",
        "print('expected result:',count)"
      ],
      "metadata": {
        "colab": {
          "base_uri": "https://localhost:8080/"
        },
        "id": "NTdIgbVTT0BY",
        "outputId": "d900b622-2edb-44a1-cf9d-f904dd4cce09"
      },
      "execution_count": 1,
      "outputs": [
        {
          "output_type": "stream",
          "name": "stdout",
          "text": [
            "expected result: 2\n"
          ]
        }
      ]
    },
    {
      "cell_type": "code",
      "source": [
        "\"\"\"6. Write a Python program to get a list, sorted in increasing order by the last\n",
        "element in each tuple from a given list of non-empty tuples.\n",
        "Sample List : [(2, 5), (1, 2), (4, 4), (2, 3), (2, 1)]\n",
        " Expected Result : [(2, 1), (1, 2), (2, 3), (4, 4), (2, 5)]\"\"\"\n",
        "my_list = [(2,5), (1, 2), (4, 4), (2, 3), (2, 1)]\n",
        "\n",
        "sorted_list = sorted(my_list, key= lambda x: x[-1])\n",
        "\n",
        "print(\"sorted list based on the last element:\", sorted_list)"
      ],
      "metadata": {
        "colab": {
          "base_uri": "https://localhost:8080/"
        },
        "id": "tmUJ5Kgijd9j",
        "outputId": "c4c4fe5c-9507-4574-b4a8-ddec7e3cb68e"
      },
      "execution_count": 2,
      "outputs": [
        {
          "output_type": "stream",
          "name": "stdout",
          "text": [
            "sorted list based on the last element: [(2, 1), (1, 2), (2, 3), (4, 4), (2, 5)]\n"
          ]
        }
      ]
    },
    {
      "cell_type": "code",
      "source": [
        "#7. Write a Python program to remove duplicates from a list.\n",
        "my_list = [1, 1, 4, 2, 2, 3, 3, 5, 6, 6, 7]\n",
        "unique_list = list(set(my_list))\n",
        "print(\" removing duplicate:\", unique_list)"
      ],
      "metadata": {
        "colab": {
          "base_uri": "https://localhost:8080/"
        },
        "id": "2xGM7tPGv-Ap",
        "outputId": "1c9e888e-e46f-4a20-f2e0-b13d2184698d"
      },
      "execution_count": 7,
      "outputs": [
        {
          "output_type": "stream",
          "name": "stdout",
          "text": [
            " removing duplicate: [1, 2, 3, 4, 5, 6, 7]\n"
          ]
        }
      ]
    },
    {
      "cell_type": "code",
      "source": [
        "my_list = [1, 1, 4, 2, 2, 3, 3, 5, 6, 6, 7]\n",
        "unique_list = list(dict.fromkeys(my_list))\n",
        "print(\" removing all duplicate:\", unique_list)"
      ],
      "metadata": {
        "colab": {
          "base_uri": "https://localhost:8080/"
        },
        "id": "3bB612uqv-KS",
        "outputId": "71b72389-fe63-4e3e-8708-b7635bd79455"
      },
      "execution_count": 10,
      "outputs": [
        {
          "output_type": "stream",
          "name": "stdout",
          "text": [
            " removing all duplicate: [1, 4, 2, 3, 5, 6, 7]\n"
          ]
        }
      ]
    },
    {
      "cell_type": "code",
      "source": [
        "#8. Write a Python program to check a list is empty or not.\n"
      ],
      "metadata": {
        "id": "amOl8l_UCGOP"
      },
      "execution_count": null,
      "outputs": []
    },
    {
      "cell_type": "code",
      "source": [
        "my_list =[]\n",
        "if not my_list:\n",
        "   print(\"the list is empty\")\n",
        "else:\n",
        "    print(\"the list is not empty\")\n"
      ],
      "metadata": {
        "colab": {
          "base_uri": "https://localhost:8080/"
        },
        "id": "dItQ33-LCGeG",
        "outputId": "49dc6cbe-e945-458e-a74a-fd78f7769df8"
      },
      "execution_count": 17,
      "outputs": [
        {
          "output_type": "stream",
          "name": "stdout",
          "text": [
            "the list is empty\n"
          ]
        }
      ]
    },
    {
      "cell_type": "code",
      "source": [
        "my_list =[0]\n",
        "if not my_list:\n",
        "   print(\"the list is empty\")\n",
        "else:\n",
        "    print(\"the list is not empty\")\n"
      ],
      "metadata": {
        "colab": {
          "base_uri": "https://localhost:8080/"
        },
        "id": "b4k7Q6HOFvNg",
        "outputId": "f893b527-1012-4165-866b-d55598dfa7f0"
      },
      "execution_count": 18,
      "outputs": [
        {
          "output_type": "stream",
          "name": "stdout",
          "text": [
            "the list is not empty\n"
          ]
        }
      ]
    },
    {
      "cell_type": "code",
      "source": [
        "# 9. Write a Python program to clone or copy a list\n",
        "number = [1, 2, 3, 4, 5]\n",
        "my_list = number[:]\n",
        "print(\"copy a list:\", my_list)"
      ],
      "metadata": {
        "colab": {
          "base_uri": "https://localhost:8080/"
        },
        "id": "wgbFNOAYv-Pl",
        "outputId": "06da63c5-8ae9-4dfe-ff80-a5f951422ec5"
      },
      "execution_count": 21,
      "outputs": [
        {
          "output_type": "stream",
          "name": "stdout",
          "text": [
            "copy a list: [1, 2, 3, 4, 5]\n"
          ]
        }
      ]
    },
    {
      "cell_type": "code",
      "source": [
        "# 10. Write a Python program to find the list of words that are longer than n from a given list of words.\n",
        "word_list = [\"apple\", \"banana\", \"kiwi\", \"grape\", \"pineapple\", \"pear\", \"mango\"]\n",
        "n = 5\n",
        "long_words = [word for word in word_list if len(word)>n]\n",
        "print(f\" word longer than {n} charecters:\", long_words)\n",
        "long_word = list(filter(lambda word: len(word)> n, word_list))\n"
      ],
      "metadata": {
        "colab": {
          "base_uri": "https://localhost:8080/"
        },
        "id": "McWSUTBKHoLB",
        "outputId": "ce12db92-8e9a-4f94-8023-f3e4d2212a53"
      },
      "execution_count": 7,
      "outputs": [
        {
          "output_type": "stream",
          "name": "stdout",
          "text": [
            " word longer than 5 charecters: ['banana', 'pineapple']\n"
          ]
        }
      ]
    },
    {
      "cell_type": "code",
      "source": [
        "#11. Write a Python function that takes two lists and returns True if they have at\n",
        "#least one common member.\n",
        "def num(list1, list2):\n",
        "  return bool(set(list1) & set(list2))\n",
        "\n",
        "list1 = [1, 2, 3, 4]\n",
        "list2 = [4, 5, 6]\n",
        "print(num(list1, list2))\n",
        "\n",
        "list3 = [7, 8, 9]\n",
        "list4 = [ 10, 11, 12]\n",
        "print(num(list3, list4))\n",
        "\n"
      ],
      "metadata": {
        "colab": {
          "base_uri": "https://localhost:8080/"
        },
        "id": "xr44GOkIdmek",
        "outputId": "a1b6481b-2487-4908-c80d-8562f286528d"
      },
      "execution_count": 2,
      "outputs": [
        {
          "output_type": "stream",
          "name": "stdout",
          "text": [
            "True\n",
            "False\n"
          ]
        }
      ]
    },
    {
      "cell_type": "code",
      "source": [
        "\"\"\"12. Write a Python program to print a specified list after removing the 0th, 4th\n",
        "and 5th elements.\n",
        "Sample List : ['Red', 'Green', 'White', 'Black', 'Pink', 'Yellow']\n",
        " Expected Output : ['Green', 'White', 'Black'\"\"\"\n",
        "def num(lst):\n",
        "   num_remove = { 0, 4, 5}\n",
        "   return [lst[i] for i in range(len(lst))if i not in num_remove]\n",
        "\n",
        "sample_list = [ 'Red', 'Green', 'white', 'black', 'Pink', 'Yellow']\n",
        "result = num(sample_list)\n",
        "print(result)\n"
      ],
      "metadata": {
        "colab": {
          "base_uri": "https://localhost:8080/"
        },
        "id": "OHb2DjBcdmrD",
        "outputId": "1e8ef42c-2f6d-4d99-b2c9-9e1a39c977ad"
      },
      "execution_count": 3,
      "outputs": [
        {
          "output_type": "stream",
          "name": "stdout",
          "text": [
            "['Green', 'white', 'black']\n"
          ]
        }
      ]
    },
    {
      "cell_type": "code",
      "source": [
        "#13. Write a Python program to generate a 3*4*6 3D array whose each element is\n",
        "array_3d = [[[0 for _ in range(6)] for _ in range(4)] for _ in range(3)]\n",
        "for layer in array_3d:\n",
        "   print(layer)"
      ],
      "metadata": {
        "colab": {
          "base_uri": "https://localhost:8080/"
        },
        "id": "qlBPBqCadmvH",
        "outputId": "8446d1bf-e952-4c78-93c2-eafc7b06f3b3"
      },
      "execution_count": 6,
      "outputs": [
        {
          "output_type": "stream",
          "name": "stdout",
          "text": [
            "[[0, 0, 0, 0, 0, 0], [0, 0, 0, 0, 0, 0], [0, 0, 0, 0, 0, 0], [0, 0, 0, 0, 0, 0]]\n",
            "[[0, 0, 0, 0, 0, 0], [0, 0, 0, 0, 0, 0], [0, 0, 0, 0, 0, 0], [0, 0, 0, 0, 0, 0]]\n",
            "[[0, 0, 0, 0, 0, 0], [0, 0, 0, 0, 0, 0], [0, 0, 0, 0, 0, 0], [0, 0, 0, 0, 0, 0]]\n"
          ]
        }
      ]
    },
    {
      "cell_type": "code",
      "source": [
        "# 14. Write a Python program to print the numbers of a specified list after removing\n",
        " #even numbers from it.\n",
        "def remove_even_number(list):\n",
        "     return [num for num in list if num % 2 != 0]\n",
        "num = [1, 2, 3, 4, 5, 6, 7, 8, 9, 10]\n",
        "\n",
        "result = remove_even_number(num)\n",
        "print(result)\n"
      ],
      "metadata": {
        "colab": {
          "base_uri": "https://localhost:8080/"
        },
        "id": "wS_HNsVUdm2G",
        "outputId": "f31b2ede-1e1b-4aad-cc3a-22c95bccc4a1"
      },
      "execution_count": 10,
      "outputs": [
        {
          "output_type": "stream",
          "name": "stdout",
          "text": [
            "[1, 3, 5, 7, 9]\n"
          ]
        }
      ]
    },
    {
      "cell_type": "code",
      "source": [
        "#15. Write a Python program to shuffle and print a specified list.\n",
        "import random\n",
        "\n",
        "def shuffle_list(list):\n",
        "  random.shuffle(list)\n",
        "  return list\n",
        "sample_list = [1, 2, 3, 4, 6, 7, 8, 9]\n",
        "\n",
        "shuffle_list = shuffle_list(sample_list)\n",
        "print(shuffle_list)\n"
      ],
      "metadata": {
        "colab": {
          "base_uri": "https://localhost:8080/"
        },
        "id": "3Y_XRxyyb_5z",
        "outputId": "9fc6b60b-ac11-44f2-cb76-cbc046733b6c"
      },
      "execution_count": 11,
      "outputs": [
        {
          "output_type": "stream",
          "name": "stdout",
          "text": [
            "[3, 4, 2, 8, 7, 9, 6, 1]\n"
          ]
        }
      ]
    },
    {
      "cell_type": "code",
      "source": [
        "#16. Write a Python program to generate and print a list of first and last 5\n",
        "#elements where the values are square of numbers between 1 and 30 (both\n",
        "#included).\n",
        "def squadred_list():\n",
        " squares = [x**2 for x in range(1, 31)]\n",
        " return squares[:5]+squares[-5:]\n",
        "result = squadred_list()\n",
        "print(result)\n"
      ],
      "metadata": {
        "colab": {
          "base_uri": "https://localhost:8080/"
        },
        "id": "Wlfntkxhvxxf",
        "outputId": "3143cf50-5847-4eef-849c-dd33ba824a58"
      },
      "execution_count": 15,
      "outputs": [
        {
          "output_type": "stream",
          "name": "stdout",
          "text": [
            "[1, 4, 9, 16, 25, 676, 729, 784, 841, 900]\n"
          ]
        }
      ]
    },
    {
      "cell_type": "code",
      "source": [
        "#17. Write a Python program to generate and print a list except for the first 5\n",
        "#elements, where the values are square of numbers between 1 and 30 (both\n",
        "#included).\n",
        "def squared_list_except_first_five():\n",
        "  squares = [x**2 for x in range(1, 31)]\n",
        "  return squares[5:]\n",
        "result = squared_list_except_first_five()\n",
        "print(result)"
      ],
      "metadata": {
        "colab": {
          "base_uri": "https://localhost:8080/"
        },
        "id": "LdNuz6AzOAQX",
        "outputId": "88b3e175-f87d-45ab-c334-ec4fb8bda1c2"
      },
      "execution_count": 16,
      "outputs": [
        {
          "output_type": "stream",
          "name": "stdout",
          "text": [
            "[36, 49, 64, 81, 100, 121, 144, 169, 196, 225, 256, 289, 324, 361, 400, 441, 484, 529, 576, 625, 676, 729, 784, 841, 900]\n"
          ]
        }
      ]
    },
    {
      "cell_type": "code",
      "source": [],
      "metadata": {
        "id": "mvPFLnUJOAWr"
      },
      "execution_count": null,
      "outputs": []
    },
    {
      "cell_type": "code",
      "source": [],
      "metadata": {
        "id": "PSxMpt08OAcb"
      },
      "execution_count": null,
      "outputs": []
    },
    {
      "cell_type": "code",
      "source": [],
      "metadata": {
        "id": "ilY7-MyUOAiR"
      },
      "execution_count": null,
      "outputs": []
    },
    {
      "cell_type": "code",
      "source": [],
      "metadata": {
        "id": "DxjoKGlhOAoH"
      },
      "execution_count": null,
      "outputs": []
    },
    {
      "cell_type": "code",
      "source": [],
      "metadata": {
        "id": "lkhkFwftOAta"
      },
      "execution_count": null,
      "outputs": []
    }
  ]
}