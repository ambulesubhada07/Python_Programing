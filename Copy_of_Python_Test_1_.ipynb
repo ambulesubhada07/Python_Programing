{
  "nbformat": 4,
  "nbformat_minor": 0,
  "metadata": {
    "colab": {
      "provenance": [],
      "include_colab_link": true
    },
    "kernelspec": {
      "name": "python3",
      "display_name": "Python 3"
    },
    "language_info": {
      "name": "python"
    }
  },
  "cells": [
    {
      "cell_type": "markdown",
      "metadata": {
        "id": "view-in-github",
        "colab_type": "text"
      },
      "source": [
        "<a href=\"https://colab.research.google.com/github/ambulesubhada07/Python_Programing/blob/main/Copy_of_Python_Test_1_.ipynb\" target=\"_parent\"><img src=\"https://colab.research.google.com/assets/colab-badge.svg\" alt=\"Open In Colab\"/></a>"
      ]
    },
    {
      "cell_type": "markdown",
      "source": [
        "#Basics\n",
        "\n",
        "---\n",
        "\n",
        "\n",
        "\n",
        "---\n",
        "\n",
        "\n",
        "###Theory Questions\n",
        "\n",
        "1.   What is an expression?\n",
        "2.  What is a syntax error?\n",
        "4.  What is the result of this expression: \"*\" * 10\n",
        "1. What is the difference between True Division and Floor Division? Use the following code snippet for reference.\n",
        "\n",
        "          10 / 3\n",
        "          10 // 3\n",
        "2. What is the result of the following?\n",
        "\n",
        "          10 ** 3\n",
        "3. Given (x = 1), what will be the value of after we run (x += 2)?\n",
        "\n",
        "5. What is the result of float(1)?\n",
        "6. \"In Python, the maximum value for an integer is 2^63 - 1\". True or False?\n",
        "\n",
        "###Coding Questions\n",
        "1.  Write a code to find the square root of 328.\n",
        "4. Write a code to round a number in python.\n",
        "6. Write a code to find the roots ( x1 , x2 ) of the following quadratic equation:-\n",
        "         10x^2 - 20x + 30 = 0\n",
        "\n",
        "7. Given are the length of one side and one angle of right-angled-triangle, write a code to calculate the length of the remaining two sides of the triangle.\n",
        "Use the folling image as a reference.\n",
        "\n",
        "  [Hint:- You can use the 'math' library for this question.]\n",
        "\n",
        "  ![image.png](data:image/png;base64,iVBORw0KGgoAAAANSUhEUgAAAUsAAAFXCAYAAAAro2x+AAAPe0lEQVR4nO3dPVIb2d7A4b/emqWAA5dX0FoBOJnI6c1EaJI3m/Bmk4gQskknmsRiBbAC1wTT2kvfYJAQILWOWv3dz1OlKtm0Tgsb/er0J7OiKIoAoNT/df0GAIZALAESiCVAArEESCCWAAnEEiCBWAIkEEuABGIJkEAsARKIJUACsQRIIJYACcQSIIFYAiQQS4AEYgmQQCwBEoglQAKxBEgglgAJxBIggVgCJBBLgARiCZBALAESiCVAArEESCCWAAnEEiCBWAIkEEuABGIJkOCXrt9Amdlstn1eFEWH7wSYut7OLHdDufnz+78DaEsvY1kWRcEEutDLWB5jlgm0bZCx3BBNoC29jOWpB3MEE2haL2NZhVkm0KTexrLqqUKiCTSht7GMOO/cSsEE6tTrWJ7LLBOoy6xo6dKYc67GqSt4rgICqmplZrnvapwumGUCVXW2GX5KuOqcEdo0B6rodJ9ll9ESTeAUnR/gSQ1WldllymsEE0jReSwjmgvmbDZLDqZoAmV6EcuI5mZ4m2CKJnCO3sQyIi2YVTbHN+OeEk2AXb2KZcR5oSoL4anneZplArs6i2Vq2E557bF9lO+DaZYJpOp0ZtlEME8dNzWawLR1vhl+TjDLXnPquIIJlOk8lhHVg1m2OV5l3H2zTBEFInoSy4j6Z5jnjLuJplACG72JZUT1sB1bvqkQA9PRq1hG1BvMc8cF2OhdLCPqC9u+I991jAtMTy9jGdHc0WzBBKrobSwj6gnbqWEVTGCfXscy4vQTzFOWO3VcgN7HMqJfpxUB0zSIWEacf5OMKkfSBRPYGEwsI+q9q1CVcYHpGlQsI2ySA90YXCwj0sJW5RpvwQQOGWQsI9KDeeo13oIJ7DPYWEbYJAfaM+hYRggm0I7BxzJCMIHmjSKWEYIJNGs0sYwQTKA5o4plhGACzRhdLCMEE6jfKGMZIZhAvUYbywjBBOoz6lhGCCZQj9HHMkIwgfNNIpYRggmcZzKxjBBMoLpJxTJCMIFqJhfLCMEETjfJWEYIJnCaycYyQjCBdJOOZYRgAmkmH8sIwQSOE8sXggmUEcsdggkcIpbvCCawj1juIZjAe2J5gGACu8SyhGACG2J5hGACEWKZRDABsUwkmDBtYnkCwYTpEssTCSZMk1hWIJgwPWJZkWDCtIjlGQQTpkMszySYMA1iWQPBhPETy5oIJoybWNZIMGG8xLJmggnjJJYtE0wYJrFsQFnUIgQThkgsGyKYMC5i2SDBhPEQy4YJJoyDWLZAMGH4xLIlggnDJpYtEkwYLrFsmWDCMIllBwQThkcsOyKYMCxi2SHBhOEQy44JJgyDWPbAsWA2NbZgQjqx7IkmoyaYcD6x7BHBhP4Sy54RTOgnsewhwYT+EcueEkzoF7HsMcGE/hDLnhNM6AexHADBhO6J5UAIJnRLLAdEMKE7YjkwggndEMsBEkxon1gOlGBCu8RywAQT2iOWAyeY0A6xHAHBhOaJ5UhMNpjru5jPZjFLeMzv1t2+VwZNLEdkksHM/47n7tbOhPzS9RugXkVRHIzXbDY761dYNDn2+bJYLH+LXz8dXuLy6qK9t8PoiOUITTWYn79ehR7SFJvhIzXJTXJokFiOmGBCfcRy5ASzLut4vLuJ+Xz3CPs85jd38bjnIPv6bv7vMvO7WG9efzN/c+R+Pr/58Nr1413c7K5jPo+bfSugfUULIuLDg3bt+z+o6/+iybGPWi1e1pUVy1Ve5Pnro851ZCXfY0RWLFZvX5Ivs3+/li2LPF+Wvv7f1+bFcpEdXsf7FdA6sZyQUQZzG8uSkC1XReV0vgldVmSL1WuQV8tikcVrFN+87GP4ssWyWL28dvUmjFmRbcdZvEb/XaT1sltiOTGjC+bRWL5GaFWhmKvFsVi9hO9ILBd7Vr479r7gvgz0Gky17JRYTtDogpnnxYet7jwvVst3m8/7YlQ6bvVQ7cYyWx5Y627oD763vFgemL3SLgd4JqgY20Gfi4u4eH9+5cVFXH2/j6diFYvN3z3fxu+PJ4y7c3VQ9vmy4pvL4tvXAyd/Xn6ObLPUt6+xf6mL+PTl5enz35FXfBecTywnanTBPOgq7lfbXMbDX+m1XP/zc/v8yydnu0+dWE7YZIK5M4OLn//E6SfiZFF5YsloiOXETSaYZ3mOv23/Tp5YMv5g7t6Z6MunA/sGoZxYEhHjDubjXw/b54tfr5Jfd/H123bz/ZR9nYyTWLI1xmCuH2/ietvKRZzQyoiLr/FtW8vruNnby3U83s13LmtkrMSSNwYVzMeb7fXZd4+PsV6vXx+Pd3Ezn8fltpRZLFb3cUorIy7i+287R9KvN9eC767jMq5v3X54CtzPkg+KQd0P8zmeH57j+SHi9tAi2SKWf9zH9yo7K6/uI1/+jMvb5+26rh/erymLxW+HzpNkLMws2aurzeaTxr66jyJfxXKxiCzL3n0xiyxbxHKVR/5UMZQvLr4/vawnizdrybJYLFeR509x767DozcrzpkmpK5kzweghdVSg7J4nfN/eCyKfj7oGzNLSjU1wzwWw2Gdh8kUiCVHCSaIJYkEk6kTS5IJJlMmlpxEMJkqseRkgskUiSWVCCZTI5ZUJphMiVhyFsFkKsSSswkmUyCW1EIwGTuxpDaCyZiJJbUSTMZKLKmdYDJGYkkjBJOxEUsaI5iMiVjSKMFkLMSSxgkmYyCWtEIwGTqxpDWCyZCJJa0STIZKLGmdYDJEYkknBJOhEUs6I5gMiVjSKcFkKMSSzgkmQyCW9IJg0ndiSW8IJn0mlvRKV8GEY8SS3ukimGaXHCOW9JJg0jdiSW8JJn0ilvSaYNIXYknvCSZ9IJYMgmDSNbFkMASTLoklgyKYdEUsGRzBpAtiySAJJm0TSwZLMGmTWDJogklbxJLBE0zaIJaMgmDSNLFkNASTJokloyKYNEUsGR3BpAliySgJJnUTS0ZLMKmTWDJqgkldxJLRE0zqIJZMgmByLrFkMgSTc4glkyKYVCWWTI5gUoVYMkmCyanEkskSTE4hlkyaYJJKLJk8wSSFWEIIJseJJbwQTMqIJewQTA4RS3hHMNlHLGEPweQ9sYQDBJNdYgklBJMNsYQjBJMIsYQkgolYQiLBnDaxhBMI5nSJJZxIMKdJLKECwZwesYSKBHNaxBLOIJjTIZZwJsGcBrGEGgjm+Ikl1EQwx00soUaCOV5iCTUTzHESS2iAYI6PWEJDBHNcxBIaJJjjIZbQMMEcB7GEFgjm8IkltEQwh00soScEs9/EElpUFrUIwewzsYSWCeYwiSV0QDCHRyyhI4I5LGIJHRLM4RBL6JhgDoNYQg8IZv+JJfSEYPabWEKPCGZ/iSX0jGD2k1hCDwlm/4gl9JRg9otYQo8dC2ZTYwvmR2IJPddk1AQznVjCAAhm98QSBkIwuyWWMCCC2R2xhIERzG6IJQyQYLZPLGGgBLNdYgkDJpjtEUsYOMFsh1jCCAhm88QSRkIwmyWWMCKC2RyxhJERzGaIJYyQYNZPLGGkBLNeYgkjJpj1EUsYOcGsh1jCBAjm+cQSJkIwzyOWMCGCWZ1YwsQIZjViCRMkmKcTS5gowTyNWEJErB/v4mY+j/lsFrPtYx7zm7t4XCePsh1ntjvOfB43d4+RPEyLBDPdrGjyt7hvVrLnH6aF1cJx67u4+c9tPDyXL5Yt83j6flGyxGPczK/Lx8kWsfrjPq7KhulIWbzO/aw2OXabzCyZsHXcbUOZRbZYxirPI8/zyFfLWGTZdsnn2//E3cGp4TrudkL5Zpx89TrO80NcX97EY4PfUVV9n2HuztQ7U7QgIj48oA9Wiyiy5arIS76+/bldrPYuky+z7TLZcv9Iu+McWqYP9n1W6/rMVh27L/0ws2TSru6LePp+FYe2jK9+Xbz+4ec/e/Y7Psbvt5sp5TL+OLCpfvX/y9jMU5///NHL/ZcR/Z9hdkksoczl523k4sunj1F9/CseXp5m374ejG5cfI1vr7WMH32tZQwjmF3EVSyhxPrHn7E5ZpN9vvz49X9+bp9/+VR25OYivr7WMv7Oa3uLjehTMMuWb5NYwiHru/jP7TaV8e3rxxjmf79+fU9L37j49GX7/Oc/PZ5avuhTMJt4D6f6pdW1QV+t1zv7EfP48ft/48+H55dZZRbL/Ck+7o5cx+vE8kuUTiwHqiiKg1GazWZnzfpOGbts2baIJazvYn55G/tOkcwWq/jj/vABoCnoSzCbWP8pbIZDieeH67iczeMm/TKeUUk5t7GtTfKu912KJVx8j6eiiGLnkeerWC5eD8g8XF/G/PBZ6aPU5tHpc/ZhtrV5Lpawx8XFVXy/f4pi9XqeZflVPONR9UqZNoLZ5exSLKHM1X289vI5bn/fvVjxIl4PcP+MUw5wl59m1J2U4NV1JHtflKuO3cbsUizhiDdX8bxz+Tn93MnXczKPn2bUtpTZ5GYXxeZ52VjH1lW27mNjdzW7FEs4Q/q5k+v48efmeHu/TjOqOpus+zzMU4JZ1zpPIZZwxONfD9vnH67i2bkcsvSa7/WP2LZy8Wtc1fweqzplNnno61XHPvSaPuyf3Ecsma7Hm5jNb8pv7ru+i/9uW7nnKp6L7/HbZiv9+TZ+3zvYv7eCe21lP1KZEsoUTVy+uInmqcFsdHbZyL2M3ome3GIJ3lgtXn8ms0WxXK6KPM9fHqtiucje/MwevLVaviyy3eUWy2K1GWe1LBbZ8du8dWHf5/Kcz+ah8crGLHtN1UdT3CmdCXuMu/l13B65S3pEwp3SH29ifv2w9yqg7Rg9uhro0Azs3M9llbuiNzEbbKIvNsOZsKv4/vR6AvrOjdH/lWWxWK4iz4sjv1IiIq7u4ynPY7XI4u0wWWTZIlZ5Hk89CeUhdQSmbIyyQA9h8mRmCRPT1KwyZR0p66ljpmlmCTSi7rhUmWHW+V6a2LQXS6AR5wazb1ufYgk05pxgbl5fNZp1zy7FEmjUucHcjNH1TFMsgcbVEcxj45w79jFiCbSizmB2McsUS6A1dQVzM1ZKNOuaXYol0OovA6szmMfGq5NYwsR0faDk2HuoGsymvy+xBDpRdzA3Y74ft66IiiXQmSaCuRm37tmmWAIR0e5+y11NBbNuYgkT1If9lruGEMzO7joEcIquA29mCQxC15MusQRIIJYACVqJZdf7GoDh67ojv7S1oq6/UYBz2AwHSCCWAAnEEiCBWAIkEEuABGIJkEAsARKIJUACsQRIIJYACcQSIIFYAiQQS4AEYgmQQCwBEoglQAKxBEgglgAJxBIggVgCJBBLgAT/A32hcFScBuSBAAAAAElFTkSuQmCC)"
      ],
      "metadata": {
        "id": "KnTiiLUVXqAk"
      }
    },
    {
      "cell_type": "code",
      "execution_count": null,
      "metadata": {
        "id": "HORD20JvXlCe",
        "outputId": "d19fa718-0b0d-412d-eec4-7b6bdc80e3f8",
        "colab": {
          "base_uri": "https://localhost:8080/"
        }
      },
      "outputs": [
        {
          "output_type": "stream",
          "name": "stdout",
          "text": [
            "The square root of 328is 18.110770276274835\n"
          ]
        }
      ],
      "source": [
        "#1\n",
        "import math\n",
        "num = 328\n",
        "square_root = math.sqrt(num)\n",
        "print(f\"The square root of {num}is {square_root}\")"
      ]
    },
    {
      "cell_type": "code",
      "source": [
        "#2\n",
        "num = 328.456\n",
        "rounded_number = round(num)\n",
        "print(f\"The rounded number is {rounded_number}\")"
      ],
      "metadata": {
        "id": "fYFCzvUsHrwZ",
        "outputId": "a764a547-b441-4942-b98b-f1f54837242c",
        "colab": {
          "base_uri": "https://localhost:8080/"
        }
      },
      "execution_count": null,
      "outputs": [
        {
          "output_type": "stream",
          "name": "stdout",
          "text": [
            "The rounded number is 328\n"
          ]
        }
      ]
    },
    {
      "cell_type": "code",
      "source": [
        "#3\n",
        "import math\n",
        "\n",
        "a = 10\n",
        "b = -20\n",
        "c = 30\n",
        "d = b**2 - 4*a*c\n",
        "if d < 0:\n",
        "    print(\"The equation has no real roots.\")\n",
        "else:\n",
        "    x1 = (-b + math.sqrt(d)) / (2*a)\n",
        "    x2 = (-b - math.sqrt(d)) / (2*a)\n",
        "\n",
        "    print(f\"The roots of the equation are: x1 = {x1}, x2 = {x2}\")\n"
      ],
      "metadata": {
        "id": "lYwqySJZJx2B",
        "outputId": "d581b8c7-7b17-4e1f-e7f1-248eba164c12",
        "colab": {
          "base_uri": "https://localhost:8080/"
        }
      },
      "execution_count": null,
      "outputs": [
        {
          "output_type": "stream",
          "name": "stdout",
          "text": [
            "The equation has no real roots.\n"
          ]
        }
      ]
    },
    {
      "cell_type": "code",
      "source": [
        "#4\n",
        "import math\n",
        "adjacent = 5\n",
        "angle_deg = 30\n",
        "angle_rad = math.radians(angle_deg)\n",
        "\n",
        "opposite = adjacent * math.tan(angle_rad)\n",
        "hypotenuse = math.sqrt(adjacent**2 + opposite**2)\n",
        "\n",
        "print(f\"The length of the hypotenuse is: {hypotenuse}\")\n",
        "print(f\"The length of the opposite side is: {opposite}\")"
      ],
      "metadata": {
        "id": "Cghi4X-CHsF0",
        "outputId": "bbf93ab8-0517-47a7-8693-ba42630945a9",
        "colab": {
          "base_uri": "https://localhost:8080/"
        }
      },
      "execution_count": null,
      "outputs": [
        {
          "output_type": "stream",
          "name": "stdout",
          "text": [
            "The length of the hypotenuse is: 5.773502691896257\n",
            "The length of the opposite side is: 2.8867513459481287\n"
          ]
        }
      ]
    },
    {
      "cell_type": "markdown",
      "source": [
        "#Flow Control\n",
        "\n",
        "---\n",
        "\n",
        "\n",
        "\n",
        "---\n",
        "\n",
        "\n",
        "##Theory Questions\n",
        "1. What is the result of bool(“False”)?\n",
        "7. What are the falsy values in Python?\n",
        "8. What is the result of 10 == “10”?\n",
        "9. What is the result of “bag” > “apple”?\n",
        "10. What is the result of not(True or False)?\n",
        "11. Under what circumstances does the expression 18 <= age < 65  evaluate to True?\n",
        "12. What is the output of the following also state why?\n",
        "         (12 and 13) == (13 and 12)\n",
        "8. What is the Order of Precedence for Boolean Operators?\n",
        "9. What marks the end of a statement block or set in Python?\n",
        "\n",
        "##Coding Questions\n",
        "1. Write a code which accepts 2 values from the user, display the maximum amount of the two and finally create a third variable and store the lower value of the two in it and display it.\n",
        "1. Write a code to find the maximum of two numbers. Accept numbers from the end user.\n",
        "2. Write a code that takes a number and check the following conditions.\n",
        "- If the number is divisible by 4, it should print “Mickey”.\n",
        "- If it is divisible by 3, it should print “Mouse”.\n",
        "- If it is divisible by both 3 and 4, it should print 'MickeyMouse\".\n",
        "- Otherwise, it should print the number as it is.\n",
        "3. Write code to check the speed of drivers. Accept 1 variable from the user and name it \"speed\" and check the foolowing conditions.\n",
        "- If the speed is less than 70, it should print \"OK\".\n",
        "- Otherwise, the driver should allocate one point for every 5 km of speeding (70) and print the total number of points.\n",
        "\n",
        " For example, if the speed is 80, it should print: \"Points: 2\". If the driver gets more than 12 points, the code should print: \"License Suspended\"\n",
        "4. Write code that will have 1 input called \"limit\" and prints all numbers between 0 and that limit with the appropriate label to identify 'BUZZ' and 'FIZZ' numbers. For example: if limit is 3, it should print:\n",
        "        0 BUZZ\n",
        "        1 FIZZ\n",
        "        2 BUZZ\n",
        "        3 FIZZ\n",
        "5. Write a code that accepts a variable known as 'limit' from the end user and prints the sum of multiples of 7 and 8 between 0 and limit. For example, if limit is 35, it should return the sum of 0, 32, 35, 7, 8, 14, 16, 21, 24, 28 which is 185."
      ],
      "metadata": {
        "id": "F6FhfYuBYOJT"
      }
    },
    {
      "cell_type": "code",
      "source": [
        "#1\n",
        "value1 = float(input(\"Enter the first value: \"))\n",
        "value2 = float(input(\"Enter the second value: \"))\n",
        "\n",
        "max_value = max(value1, value2)\n",
        "print(f\"The maximum value is: {max_value}\")\n",
        "\n",
        "min_value = min(value1, value2)\n",
        "print(f\"The minimum value is: {min_value}\")\n"
      ],
      "metadata": {
        "id": "zK9RjwVPY9-w",
        "outputId": "4d30bd7a-2959-4f00-8b32-1d9eb3c8e2a4",
        "colab": {
          "base_uri": "https://localhost:8080/"
        }
      },
      "execution_count": null,
      "outputs": [
        {
          "output_type": "stream",
          "name": "stdout",
          "text": [
            "Enter the first value: 2.3\n",
            "Enter the second value: 56.3\n",
            "The maximum value is: 56.3\n",
            "The minimum value is: 2.3\n"
          ]
        }
      ]
    },
    {
      "cell_type": "code",
      "source": [
        "#2\n",
        "\n",
        "num1 = float(input(\"Enter the first number: \"))\n",
        "num2 = float(input(\"Enter the second number: \"))\n",
        "\n",
        "max_number = max(num1, num2)\n",
        "print(f\"The maximum number is: {max_number}\")\n"
      ],
      "metadata": {
        "id": "RBs6tprMMEep",
        "outputId": "c48d7142-a0af-4151-a79a-051f3c00a36a",
        "colab": {
          "base_uri": "https://localhost:8080/"
        }
      },
      "execution_count": null,
      "outputs": [
        {
          "output_type": "stream",
          "name": "stdout",
          "text": [
            "Enter the first number: 32.3\n",
            "Enter the second number: 56.4\n",
            "The maximum number is: 56.4\n"
          ]
        }
      ]
    },
    {
      "cell_type": "code",
      "source": [
        "#3\n",
        "number = int(input(\"Enter a number: \"))\n",
        "\n",
        "if number % 3 == 0 and number % 4 == 0:\n",
        "    print(\"MickeyMouse\")\n",
        "elif number % 4 == 0:\n",
        "    print(\"Mickey\")\n",
        "elif number % 3 == 0:\n",
        "    print(\"Mouse\")\n",
        "else:\n",
        "    print(number)"
      ],
      "metadata": {
        "id": "CNdjf8JOMEoV",
        "outputId": "72f58cf7-73b7-40da-b4bd-1e840a49c2b6",
        "colab": {
          "base_uri": "https://localhost:8080/"
        }
      },
      "execution_count": null,
      "outputs": [
        {
          "output_type": "stream",
          "name": "stdout",
          "text": [
            "Enter a number: 24\n",
            "MickeyMouse\n"
          ]
        }
      ]
    },
    {
      "cell_type": "code",
      "source": [
        "#4\n",
        "speed = int(input(\"Enter the speed of the driver: \"))\n",
        "\n",
        "if speed < 70:\n",
        "    print(\"OK\")\n",
        "else:\n",
        "    points = (speed - 70) // 5\n",
        "    if points > 12:\n",
        "        print(\"License Suspended\")\n",
        "    else:\n",
        "        print(f\"Points: {points}\")\n"
      ],
      "metadata": {
        "id": "7ub_Hi98MEta",
        "outputId": "444ee255-e8a0-46f6-fd16-8188bb8a0de7",
        "colab": {
          "base_uri": "https://localhost:8080/"
        }
      },
      "execution_count": null,
      "outputs": [
        {
          "output_type": "stream",
          "name": "stdout",
          "text": [
            "Enter the speed of the driver: 86\n",
            "Points: 3\n"
          ]
        }
      ]
    },
    {
      "cell_type": "code",
      "source": [
        "#5\n",
        "limit = int(input(\"Enter the limit: \"))\n",
        "\n",
        "for num in range(limit + 1):\n",
        "    if num % 2 == 0:\n",
        "        print(f\"{num} BUZZ\")\n",
        "    else:\n",
        "        print(f\"{num} FIZZ\")\n"
      ],
      "metadata": {
        "id": "gok_msAJMEzM",
        "outputId": "a131b737-e3d3-42e0-ac6b-294a97f119e3",
        "colab": {
          "base_uri": "https://localhost:8080/"
        }
      },
      "execution_count": null,
      "outputs": [
        {
          "output_type": "stream",
          "name": "stdout",
          "text": [
            "Enter the limit: 2\n",
            "0 BUZZ\n",
            "1 FIZZ\n",
            "2 BUZZ\n"
          ]
        }
      ]
    },
    {
      "cell_type": "code",
      "source": [
        "#6\n",
        "limit = int(input(\"Enter the limit: \"))\n",
        "\n",
        "sum_of_multiples = 0\n",
        "\n",
        "for num in range(limit + 1):\n",
        "    if num % 7 == 0 or num % 8 == 0:\n",
        "        sum_of_multiples += num\n",
        "\n",
        "print(f\"The sum of multiples of 7 and 8 up to {limit} is: {sum_of_multiples}\")\n"
      ],
      "metadata": {
        "id": "P9S9vz38MFB2",
        "outputId": "faa2680b-aca7-4cdf-930c-b1bb9fec19af",
        "colab": {
          "base_uri": "https://localhost:8080/"
        }
      },
      "execution_count": null,
      "outputs": [
        {
          "output_type": "stream",
          "name": "stdout",
          "text": [
            "Enter the limit: 25\n",
            "The sum of multiples of 7 and 8 up to 25 is: 90\n"
          ]
        }
      ]
    },
    {
      "cell_type": "markdown",
      "source": [
        "#Loops\n",
        "\n",
        "---\n",
        "\n",
        "\n",
        "\n",
        "---\n",
        "\n",
        "\n",
        "##Theory Questions\n",
        "1. What does range(1, 10, 2) return?\n",
        "2. Name 3 iterable objects in Python.\n",
        "3. What is the difference between if condition and while loop?\n",
        "4. What is the difference between while and for loop?\n",
        "5. Can we provide more than 3 agruments in range function? State the reason for the same.\n",
        "6. State True or False: Also try to find out the reason for the same if your answer is False.\n",
        "        We Can Create An Infinite Loop Using Range Function.\n",
        "\n",
        "## Coding Questions\n",
        "\n",
        "1. Write a code that accepts a variable called as 'limit' and prints all the prime numbers between 0 and limit.\n",
        "7. Write a code to find all the factors of 24.\n",
        "8. Write a code to find all the prime factors of 100. The output should be as follows:-\n",
        "\n",
        "        Prime Factors of 100:- 2,2,5,5\n",
        "\n",
        " Use the following snippet for reference:-\n",
        "        100 = 100 * 1 (can't divide 1 further)\n",
        "        100 = 50 * 2 (can't divide 2 further)\n",
        "        50 * 2 = 20 * 5 (can't divide 5 further)\n",
        "        20 * 5 = 10 * 2 * 5 (can't divide 2, 5 further)\n",
        "        10 * 2 * 5 = 2 * 5 * 2 * 5 (This is the final answer)\n",
        "\n",
        "4. Write a code that iterates from 1-25.\n",
        "Each loop prints the next prime number and waits for the end user to input 'Y' for yes or 'N' for no.\n",
        "- If the end user's input is 'Y': then output should print the next prime number and waits for the end user to input 'Y' for yes or 'N' for no.\n",
        "- If the end user's input is 'N': then stop the loop."
      ],
      "metadata": {
        "id": "NE-76YAvhhx5"
      }
    },
    {
      "cell_type": "code",
      "source": [
        "#1\n",
        "limit = int(input(\"Enter the limit: \"))\n",
        "\n",
        "print(f\"Prime numbers up to {limit}:\")\n",
        "for num in range(2, limit + 1):\n",
        "    is_prime = True\n",
        "    for i in range(2, num):\n",
        "        if num % i == 0:\n",
        "            is_prime = False\n",
        "            break\n",
        "    if is_prime:\n",
        "        print(num, end=' ')\n",
        "print()\n"
      ],
      "metadata": {
        "id": "wVLIR-DxhiVZ",
        "outputId": "505587df-cae1-47a5-f0c5-f7b815816869",
        "colab": {
          "base_uri": "https://localhost:8080/"
        }
      },
      "execution_count": null,
      "outputs": [
        {
          "output_type": "stream",
          "name": "stdout",
          "text": [
            "Enter the limit: 100\n",
            "Prime numbers up to 100:\n",
            "2 3 5 7 11 13 17 19 23 29 31 37 41 43 47 53 59 61 67 71 73 79 83 89 97 \n"
          ]
        }
      ]
    },
    {
      "cell_type": "code",
      "source": [
        "#2\n",
        "num = 24\n",
        "print(f\"Factors of {num}:\")\n",
        "for i in range(1, num + 1):\n",
        "    if num % i == 0:\n",
        "        print(i, end=' ')\n",
        "print()"
      ],
      "metadata": {
        "id": "6pJKGYMCSU28",
        "outputId": "d567a09d-ea0d-4eda-9207-738bbb6fd921",
        "colab": {
          "base_uri": "https://localhost:8080/"
        }
      },
      "execution_count": null,
      "outputs": [
        {
          "output_type": "stream",
          "name": "stdout",
          "text": [
            "Factors of 24:\n",
            "1 2 3 4 6 8 12 24 \n"
          ]
        }
      ]
    },
    {
      "cell_type": "code",
      "source": [
        "#3\n",
        "number = 100\n",
        "print(f\"Prime factors of {number}:\", end=' ')\n",
        "\n",
        "factor = 2\n",
        "while number > 1:\n",
        "    while number % factor == 0:\n",
        "        print(factor, end=',')\n",
        "        number //= factor\n",
        "    factor += 1\n",
        "print()\n"
      ],
      "metadata": {
        "id": "wZxvl5d_SU6i",
        "outputId": "d415f710-4bf4-48ec-a450-c6da374ee6c7",
        "colab": {
          "base_uri": "https://localhost:8080/"
        }
      },
      "execution_count": null,
      "outputs": [
        {
          "output_type": "stream",
          "name": "stdout",
          "text": [
            "Prime factors of 100: 2,2,5,5,\n"
          ]
        }
      ]
    },
    {
      "cell_type": "markdown",
      "source": [
        "5.\n",
        "\n",
        "$$\\sum_{n=0}^{25} \\frac{1}{24} ( \\frac{3}{4} )^n $$"
      ],
      "metadata": {
        "id": "_iaIETUCOjrd"
      }
    },
    {
      "cell_type": "code",
      "source": [
        "\n",
        "sum =0\n",
        "for i in range(0,26):\n",
        "  value = (1/24)*((3/4)**i)\n",
        "  sum += value\n",
        "print(sum)"
      ],
      "metadata": {
        "id": "dEmDtXlbH7Lw",
        "outputId": "1198a3ef-40bf-49cd-e9f4-85c8a331c00a",
        "colab": {
          "base_uri": "https://localhost:8080/"
        }
      },
      "execution_count": null,
      "outputs": [
        {
          "output_type": "stream",
          "name": "stdout",
          "text": [
            "0.16657259873439603\n"
          ]
        }
      ]
    },
    {
      "cell_type": "markdown",
      "source": [
        "6.\n",
        "\n",
        "$$\\prod_{n=1}^{25} \\frac{1}{24} ( \\frac{3}{4} )^n $$"
      ],
      "metadata": {
        "id": "VfAz39bIOb86"
      }
    },
    {
      "cell_type": "code",
      "source": [
        "product =1\n",
        "for i in range(1,26):\n",
        "  value = (1/24)*((3/4)**i)\n",
        "  product *= value\n",
        "print(product)\n"
      ],
      "metadata": {
        "id": "F2AAsqKPH7VW",
        "outputId": "026a7d8b-c68d-48c8-c4cf-60a23220b942",
        "colab": {
          "base_uri": "https://localhost:8080/"
        }
      },
      "execution_count": null,
      "outputs": [
        {
          "output_type": "stream",
          "name": "stdout",
          "text": [
            "7.755852828501249e-76\n"
          ]
        }
      ]
    },
    {
      "cell_type": "markdown",
      "source": [
        "7.\n",
        "\n",
        "$$\\sum_{n=1}^{25} 2^{2^{2^{n}}} $$"
      ],
      "metadata": {
        "id": "F2dlQ6aGOxeV"
      }
    },
    {
      "cell_type": "code",
      "source": [
        "sum = 0\n",
        "for i in range(1, 26):\n",
        "    value1 = 2 ** (2 * i)\n",
        "    sum += value1\n",
        "print(sum)"
      ],
      "metadata": {
        "id": "gR-WlVFQchYk",
        "outputId": "97de7bad-a16f-46af-a009-5c58b1471727",
        "colab": {
          "base_uri": "https://localhost:8080/"
        }
      },
      "execution_count": null,
      "outputs": [
        {
          "output_type": "stream",
          "name": "stdout",
          "text": [
            "1501199875790164\n"
          ]
        }
      ]
    },
    {
      "cell_type": "code",
      "source": [
        "#4\n",
        "def is_prime(n):\n",
        "    if n < 2:\n",
        "        return False\n",
        "    for i in range(2, n):\n",
        "        if n % i == 0:\n",
        "            return False\n",
        "    return True\n",
        "\n",
        "num = 1\n",
        "while num <= 25:\n",
        "    if is_prime(num):\n",
        "        print(f\"Next prime number: {num}\")\n",
        "        if input(\"See next prime number? (Y/N): \").strip().upper() == 'N':\n",
        "            print(\"Loop stopped.\")\n",
        "            break\n",
        "    num += 1"
      ],
      "metadata": {
        "id": "Pw9ktNeDW-sL"
      },
      "execution_count": null,
      "outputs": []
    }
  ]
}