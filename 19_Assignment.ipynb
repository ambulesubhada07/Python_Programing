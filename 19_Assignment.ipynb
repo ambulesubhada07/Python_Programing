{
  "nbformat": 4,
  "nbformat_minor": 0,
  "metadata": {
    "colab": {
      "provenance": [],
      "authorship_tag": "ABX9TyMrTCkhMRJTyt1wTa+B3mn4",
      "include_colab_link": true
    },
    "kernelspec": {
      "name": "python3",
      "display_name": "Python 3"
    },
    "language_info": {
      "name": "python"
    }
  },
  "cells": [
    {
      "cell_type": "markdown",
      "metadata": {
        "id": "view-in-github",
        "colab_type": "text"
      },
      "source": [
        "<a href=\"https://colab.research.google.com/github/ambulesubhada07/Python_Programing/blob/main/19_Assignment.ipynb\" target=\"_parent\"><img src=\"https://colab.research.google.com/assets/colab-badge.svg\" alt=\"Open In Colab\"/></a>"
      ]
    },
    {
      "cell_type": "markdown",
      "source": [
        "##**1.What are the key features of Python?**\n",
        "- Python is a powerful, high-leve; programing language known for its simplicity.\n",
        "\n",
        "**1. Easy to Learn** - Python has a simple and readable syntax, making it beginner-friendly.\n",
        "\n",
        "**2. Interpreted language**- Python code is executed line be line, which makes debugging easier.\n",
        "\n",
        "**3. Dynamically Typed**- No need to declear data type; Python determines the at runtime.\n",
        "\n",
        "**4. Object-Oriented and Functional Programming**- Support multiple programming paradigms, including OOP and functional programming.\n",
        "\n",
        "**5. Extensive Libraries and Frameworks**- A vast collection of libraries like NumPy, Pandas, TensorFlow, And Flask Speed up development.\n",
        "\n",
        "**6. Cross-Platform Compatibility** - Python runs on various operating systems like Windows, macOS, and Linux without modification.\n",
        "\n",
        "**7. Automatic Memory Management**- Built-in garbage collection handles memory allocation and deallocation automatically.\n",
        "\n",
        "**8. Highly Scalable**-  Used in small scripts as well as large-scale applications like web development, AI, and data science.\n",
        "\n",
        "**9. Strong Community Support**- A large global community provides extensive resources and support.\n",
        "\n",
        "**10. Integration Capabilities**-  Can be easily integrated with other languages like C, C++, and Java.\n"
      ],
      "metadata": {
        "id": "jsEdRkGKT90K"
      }
    },
    {
      "cell_type": "markdown",
      "source": [
        "##**2. What are the Data Types in Python?**\n",
        "Python provides several built-in data types-\n",
        "\n",
        "**1. Numeric Types**\n",
        "\n",
        "\n",
        "*   Int- Integer Value (e.g, 10, -5, 1000)\n",
        "*   Float- Floating-point number (e.g,  10.5, -3.14)\n",
        "\n",
        "\n",
        "*  complex- Complex number( e.g, 3+4j)\n",
        "\n",
        "**2. Sequence Type**\n",
        "\n",
        "\n",
        "*   str- String(e.g, \"Hello, Python!\")\n",
        "\n",
        "*   list- Ordered, mutable collection(e.g, [1, 2, 3, \"apple\"])\n",
        "*   tuple- Ordered, immutable collection (e.g, (10, 20, 30, \"banana\"))\n",
        "\n",
        "\n",
        "*   range- Represents a sequence of numbers( e.g, range(5)- 0, 1, 2, 3, 4)\n",
        "\n",
        "**3. set Types**\n",
        "\n",
        "\n",
        "\n",
        "*   set- Unordered, mutable collection of unique items(e.g, {1, 2, 3, 3}- {1, 2, 3}\n",
        "*   frozenset- Immutable version of set\n",
        "\n",
        "**4. Mapping Type**\n",
        "\n",
        "\n",
        "*  dict – Key-value pairs (e.g., {\"name\": \"Suhas\", \"age\": 25})\n",
        "\n",
        "**5. Boolean Type**\n",
        "\n",
        "*   Bool - Represents True or False\n",
        "\n",
        "**6. Binary Types (Used for handling binary data)**\n",
        "\n",
        "\n",
        "\n",
        "*   bytes- Immutable sequence of bytes\n",
        "*   Bytearray- Mutable sequence of bytes\n",
        "\n",
        "*  Memoryview- View Memory in binary form\n",
        "\n",
        "\n",
        "\n",
        "\n",
        "\n",
        "\n",
        "\n",
        "\n",
        "\n"
      ],
      "metadata": {
        "id": "1HUcPM1MZTZU"
      }
    },
    {
      "cell_type": "markdown",
      "source": [
        "##**3.What are local variables and global variables in Python?**\n",
        "**1. Local Variables:**\n",
        "\n",
        "\n",
        "*   A local variable is a variable declared inside a function\n",
        "*  It is accessible only within that function.\n",
        "\n",
        "*   it cannot be used outside the funtion where it is defined.\n",
        "\n",
        "\n",
        "\n",
        "\n",
        "\n"
      ],
      "metadata": {
        "id": "Iy6mZ5G_RzQN"
      }
    },
    {
      "cell_type": "code",
      "source": [
        "# Example\n",
        "def local_variable():\n",
        "  x = 10\n",
        "  print(\" inside variable:\", x)\n",
        "\n",
        "local_variable()"
      ],
      "metadata": {
        "colab": {
          "base_uri": "https://localhost:8080/"
        },
        "id": "kmOPvuQWYUF1",
        "outputId": "260160ac-7b49-43fe-c5c6-70df4de54bd9"
      },
      "execution_count": 2,
      "outputs": [
        {
          "output_type": "stream",
          "name": "stdout",
          "text": [
            " inside variable: 10\n"
          ]
        }
      ]
    },
    {
      "cell_type": "markdown",
      "source": [
        "**2. Global variables**\n",
        "\n",
        "\n",
        "*   A global variable is a variable declared outside any funtion.\n",
        "*   it is accessible throughout the entire program , including inside function.\n",
        "\n"
      ],
      "metadata": {
        "id": "NVeIjfSIUGlq"
      }
    },
    {
      "cell_type": "code",
      "source": [
        "#Example\n",
        "y = 20\n",
        "def global_variable():\n",
        "  print(\"Inside funtion:\",y)\n",
        "global_variable()\n",
        "print(\"outside function:\",y)\n"
      ],
      "metadata": {
        "colab": {
          "base_uri": "https://localhost:8080/"
        },
        "id": "_hd__ilhW0pc",
        "outputId": "7fd8807c-70d0-4c22-9305-88d135021e3d"
      },
      "execution_count": 5,
      "outputs": [
        {
          "output_type": "stream",
          "name": "stdout",
          "text": [
            "Inside funtion: 20\n",
            "outside function: 20\n"
          ]
        }
      ]
    },
    {
      "cell_type": "markdown",
      "source": [
        "  ## **4. How do you write comments in python? And Why Comments are important?**\n",
        "\n",
        " **1. Single-line comments(#)**\n",
        "\n",
        " 1. (#) Symbol for single-line comments\n",
        "\n",
        "\n",
        " **2. Multi-line comments(Using (''') or ( \"\"\")**\n",
        " 1. '''\n",
        "This is a multi-line comment.\n",
        "It spans multiple lines.\n",
        "'''\n",
        "\n",
        "2. \"\"\"\n",
        "Another way to write\n",
        "multi-line comments.\n",
        "\"\"\"\n",
        "\n",
        "**Why Are Comments Important?**\n",
        "\n",
        " **1. Improves Readability** – Helps programmers understand the code easily.\n",
        "\n",
        "**2. Eases Debugging** – Provides explanations for complex logic.\n",
        "\n",
        "**3. Facilitates Collaboration** – Makes it easier for multiple developers to work on the same project.\n",
        "\n",
        "**4. Helps in Documentation** – Docstrings explain the purpose of functions/classes.\n",
        "\n",
        "**5. Code Maintenance** – Comments help in future modifications or updates."
      ],
      "metadata": {
        "id": "bhiNk94GYpHS"
      }
    },
    {
      "cell_type": "markdown",
      "source": [
        "##**5. How to Comment Multiple Lines in Python?**\n",
        "\n",
        "- A multiline comment in Python is a comment that spans multiple lines, used to provide detailed explanations, disable large sections of code, or improve code readability.\n",
        "\n",
        "**Types of Multiline Comments**\n",
        "\n",
        "**1. (#) symbol**\n",
        "\n",
        "Using multiple # symbols on separate lines is the most efficient and Pythonic way to write multiline comments.\n",
        "\n",
        "**2. Triple Quotes (''' or \"\"\")**\n",
        "\n",
        "Python allows the use of triple single (”’) or triple double (“””) quotes to define multi-line strings. Although these are technically string literals and not comments, they can be used as comments if they are not assigned to a variable.\n",
        "\n",
        "\n",
        "**3. \\Method**\n",
        "\n",
        "Backslash Method for commenting out multiple lines in Python is an unconventional and lesser-known approach. It involves using the line continuation character (\\) to extend a statement across multiple lines, effectively preventing Python from executing the code."
      ],
      "metadata": {
        "id": "88Szz_q1ZPS7"
      }
    },
    {
      "cell_type": "markdown",
      "source": [
        "##**6. What do you mean by Python literals?**\n",
        "\n",
        "**Python Literals**\n",
        "\n",
        "-Literals in Python are constant values assigned to variables or used directly in code. They represent fixed values.\n",
        "\n",
        " **Types of Literals in Python**\n",
        "\n",
        "**1. String Literals :**\n",
        "\n",
        "**Single or double quotes:**\n",
        "'Hello', \"Python\"\n",
        "\n",
        "**Multi-line:** '''This is a multi-line string'''\n",
        "\n",
        "**Example:**\n",
        "\n",
        "\n",
        "\n",
        "text = \"Hello, Python!\"\n",
        "\n",
        "**2. Numeric Literals**\n",
        "\n",
        "Integer (int): 10, -5, 1000\n",
        "\n",
        "Float (float): 10.5, -3.14\n",
        "\n",
        "Complex (complex): 3 + 4j\n",
        "\n",
        "\n",
        "\n",
        "\n",
        "example:\n",
        "\n",
        "num = 100  \n",
        "pi = 3.14  \n",
        "comp = 2 + 3j  \n",
        "\n",
        "**3. Boolean Literals**\n",
        "\n",
        "\n",
        "\n",
        "\n",
        "True or False\n",
        "\n",
        "Example:\n",
        "\n",
        "is_python_fun = True\n",
        "\n",
        "**4. Special Literal (None)**\n",
        "\n",
        "Represents the absence of a value.\n",
        "Example:\n",
        "\n",
        "value = None\n",
        "\n",
        "**5. Literal Collections**\n",
        "\n",
        "List (list): [1, 2, 3, \"apple\"]\n",
        "\n",
        "Tuple (tuple): (10, 20, \"banana\")\n",
        "\n",
        "Set (set): {1, 2, 3}\n",
        "\n",
        "Dictionary (dict): {\"name\": \"Alice\", \"age\": 25}\n",
        "\n",
        "Example:\n",
        "\n",
        "fruits = [\"apple\", \"banana\", \"cherry\"]  # List\n",
        "\n",
        "coordinates = (10, 20)  # Tuple\n",
        "\n",
        "unique_nums = {1, 2, 3}  # Set\n",
        "\n",
        "person = {\"name\": \"Alice\", \"age\": 25}  # Dictionary\n"
      ],
      "metadata": {
        "id": "hs9Nh3Iva2ZX"
      }
    },
    {
      "cell_type": "markdown",
      "source": [
        "## **7. What are different ways to assign value to variables?**"
      ],
      "metadata": {
        "id": "e4gSQViWe8Mc"
      }
    },
    {
      "cell_type": "code",
      "source": [
        "# 1. simple Assignment\n",
        "x = 10\n",
        "name = \"subha\"\n",
        "pi = 3.14\n"
      ],
      "metadata": {
        "id": "fGEo-SKsfP1G"
      },
      "execution_count": null,
      "outputs": []
    },
    {
      "cell_type": "code",
      "source": [
        "# 2. Multiple Assigment\n",
        "#Assigning the same value to multiple variable\n",
        "a= b= c= 10\n",
        "#Assigning different values to multiple variables in one line\n",
        "x, y, z = 5, \"hello\", 3.5\n"
      ],
      "metadata": {
        "id": "u_aaMcemfP_-"
      },
      "execution_count": null,
      "outputs": []
    },
    {
      "cell_type": "code",
      "source": [
        "# 3. Unpacking Values from a List or Tuple\n",
        "\n",
        "data = (10, 20, 30)\n",
        "x, y, z = data  # Unpacking tuple"
      ],
      "metadata": {
        "id": "oeAZl-V-fQEv"
      },
      "execution_count": null,
      "outputs": []
    },
    {
      "cell_type": "code",
      "source": [
        "#4. Using input() Function (User Input)\n",
        "name = input(\"Enter your name: \")\n"
      ],
      "metadata": {
        "id": "kqjcyjf0f4Kg"
      },
      "execution_count": 3,
      "outputs": []
    },
    {
      "cell_type": "code",
      "source": [
        "#5.Assigning Values via Expressions\n",
        "sum_value = 10 + 20\n",
        "square = x ** 2\n",
        "\n"
      ],
      "metadata": {
        "id": "tHBWLj5zf4Py"
      },
      "execution_count": null,
      "outputs": []
    },
    {
      "cell_type": "code",
      "source": [
        "#6. Using a Function Return Value\n",
        "def get_value():\n",
        "    return 42\n",
        "\n",
        "result = get_value()"
      ],
      "metadata": {
        "id": "baIw4fKDf4Su"
      },
      "execution_count": null,
      "outputs": []
    },
    {
      "cell_type": "code",
      "source": [
        "#7. Assigning Values with Type Casting\n",
        "num = int(\"100\")  # Converts string to integer"
      ],
      "metadata": {
        "id": "Qt7ADHbNf4Yt"
      },
      "execution_count": null,
      "outputs": []
    },
    {
      "cell_type": "code",
      "source": [
        "#8. Using globals() and locals() (Advanced Usage)\n",
        "globals()['a'] = 10  # Assigns 10 to 'a' in global scope"
      ],
      "metadata": {
        "id": "VvAL2tvwf4cI"
      },
      "execution_count": null,
      "outputs": []
    },
    {
      "cell_type": "markdown",
      "source": [
        "##**8. What are the Escape Characters in python?**\n",
        "\n",
        "Detailed Explanation with Examples\n",
        "1. \\n (Newline)\n",
        "The \\n escape character moves the cursor to the next line, creating a line break.\n",
        "\n",
        "\n",
        "\n",
        "\n",
        "print(\"Hello, World!\\nWelcome to Python.\")\n",
        "\n",
        "Output\n",
        "\n",
        "Hello, World!\n",
        "\n",
        "Welcome to Python.\n",
        "\n",
        "2. \\t (Tab)\n",
        "The \\t escape character inserts a tab space between words or characters.\n",
        "\n",
        "\n",
        "\n",
        "\n",
        "print(\"Name\\tAge\\tLocation\")\n",
        "\n",
        "Output\n",
        "\n",
        "Name\tAge\tLocation\n",
        "\n",
        "3. \\\\ (Backslash)\n",
        "The \\\\ escape character inserts a literal backslash in the string.\n",
        "\n",
        "\n",
        "\n",
        "\n",
        "print(\"This is a backslash: \\\\\")\n",
        "\n",
        "Output\n",
        "\n",
        "This is a backslash: \\\n",
        "\n",
        "4. \\' (Single Quote)\n",
        "The \\' escape character allows you to insert a single quote within a string that is enclosed by single quotes.\n",
        "\n",
        "\n",
        "\n",
        "\n",
        "print('It\\'s a great day!')\n",
        "\n",
        "Output\n",
        "It's a great day!\n",
        "\n",
        "\n",
        "5. \\\" (Double Quote)\n",
        "The \\\" escape character allows you to insert a double quote within a string that is enclosed by double quotes.\n",
        "\n",
        "\n",
        "\n",
        "\n",
        "print(\"He said, \\\"Hello!\\\"\")\n",
        "\n",
        "Output\n",
        "\n",
        "He said, \"Hello!\"\n",
        "\n",
        "6. \\r (Carriage Return)\n",
        "\n",
        "The \\r escape character moves the cursor to the beginning of the line. It can overwrite the existing text.\n",
        "\n",
        "\n",
        "\n",
        "\n",
        "print(\"Hello, World!\\rHi\")\n",
        "\n",
        "Output\n",
        "\n",
        "Hello, World!\n",
        "\n",
        "Hi"
      ],
      "metadata": {
        "id": "KH0G49TGgy0q"
      }
    },
    {
      "cell_type": "markdown",
      "source": [
        "## **9. Which are the different ways to perform string formatting? Explain with**\n",
        "##**example**.\n",
        "\n",
        "1. Using % Operator (Old Method)\n",
        "\n",
        "Uses format specifiers like %s, %d, and %f.\n",
        "Less flexible compared to newer methods.\n",
        "\n",
        "Example:\n",
        "\n",
        "name = \"Alice\"\n",
        "\n",
        "age = 25\n",
        "\n",
        "print(\"My name is %s and I am %d years\n",
        "old.\" % (name, age))\n",
        "\n",
        "Output:\n",
        "\n",
        "My name is Alice and I am 25 years old.\n",
        "\n",
        "2.  Using .format() Method (Python 2.7+)\n",
        "\n",
        "Uses {} placeholders and .format() function.\n",
        "\n",
        "More readable than % formatting.\n",
        "\n",
        "Example:\n",
        "\n",
        "name = \"Bob\"\n",
        "\n",
        "age = 30\n",
        "\n",
        "print(\"My name is {} and I am {} years\n",
        "old.\".format(name, age))\n",
        "\n",
        "Output\n",
        "\n",
        "My name is Bob and I am 30 years old.\n",
        "\n",
        "3. Using f-Strings (Python 3.6+) (Recommended )\n",
        "\n",
        "Uses f\"\" prefix and {} for variable substitution.\n",
        "\n",
        "Fast and readable.\n",
        "\n",
        "\n",
        "Example:\n",
        "name = \"Emma\"\n",
        "\n",
        "age = 28\n",
        "\n",
        "print(f\"My name is {name} and I am {age} years old.\")\n",
        "\n",
        "Output:\n",
        "\n",
        "My name is Emma and I am 28 years old.\n"
      ],
      "metadata": {
        "id": "mPMmZrqbis7G"
      }
    },
    {
      "cell_type": "markdown",
      "source": [
        "## **10. Write a program to print every character of a string entered by the user in a**\n",
        "**new line using a loop**\n",
        "\n"
      ],
      "metadata": {
        "id": "qs-vtQJdlIyV"
      }
    },
    {
      "cell_type": "code",
      "source": [
        "user_string = input(\"Enter a string:\")\n",
        "for char in user_string:\n",
        "  print(char)"
      ],
      "metadata": {
        "colab": {
          "base_uri": "https://localhost:8080/"
        },
        "id": "Ma50ys7Eldek",
        "outputId": "6174d30c-de81-49b6-cb7e-1d059fcc3139"
      },
      "execution_count": 4,
      "outputs": [
        {
          "output_type": "stream",
          "name": "stdout",
          "text": [
            "Enter a string:Subhada\n",
            "S\n",
            "u\n",
            "b\n",
            "h\n",
            "a\n",
            "d\n",
            "a\n"
          ]
        }
      ]
    },
    {
      "cell_type": "code",
      "source": [],
      "metadata": {
        "id": "zjjBpiRBmHfs"
      },
      "execution_count": null,
      "outputs": []
    },
    {
      "cell_type": "markdown",
      "source": [
        "##**11. Write a program to find the length of the string \"machine learning\" with and**\n",
        "## **without using len function.**\n"
      ],
      "metadata": {
        "id": "cHpLlWH5mK77"
      }
    },
    {
      "cell_type": "code",
      "source": [
        "# 1. Using len() Function (Built-in Method)\n",
        "string = \"machine learning\"\n",
        "length = len(string)\n",
        "print(\"Length of the string:\", length)"
      ],
      "metadata": {
        "colab": {
          "base_uri": "https://localhost:8080/"
        },
        "id": "Gx3LlUMFmTtf",
        "outputId": "5c282907-b372-4681-9f3f-a52b275e8a81"
      },
      "execution_count": 5,
      "outputs": [
        {
          "output_type": "stream",
          "name": "stdout",
          "text": [
            "Length of the string: 16\n"
          ]
        }
      ]
    },
    {
      "cell_type": "code",
      "source": [
        "#2. Without Using len() Function (Manual Method)\n",
        "string = \"machine learning\"\n",
        "count = 0\n",
        "\n",
        "for char in string:\n",
        "  count += 1\n",
        "print(\"Length of the string:\", count)"
      ],
      "metadata": {
        "colab": {
          "base_uri": "https://localhost:8080/"
        },
        "id": "E6jisv3EmwcW",
        "outputId": "a6653dc5-53fa-44fe-fba5-fcd3c249187c"
      },
      "execution_count": 6,
      "outputs": [
        {
          "output_type": "stream",
          "name": "stdout",
          "text": [
            "Length of the string: 16\n"
          ]
        }
      ]
    },
    {
      "cell_type": "markdown",
      "source": [
        "## **12. Write a program to check if the word 'orange' is present in the \"This is orange**\n",
        "juice\"."
      ],
      "metadata": {
        "id": "J0vl2fyOnWUl"
      }
    },
    {
      "cell_type": "code",
      "source": [
        "text = \" this is orange juice\"\n",
        "if \"orange\" in text:\n",
        "  print(\"orange is present in the text\")\n",
        "else:\n",
        "  print(\"orange is not present in the text\")"
      ],
      "metadata": {
        "colab": {
          "base_uri": "https://localhost:8080/"
        },
        "id": "kAD0QlGLnZrB",
        "outputId": "31594e95-b657-48db-d2da-07df581a0970"
      },
      "execution_count": 8,
      "outputs": [
        {
          "output_type": "stream",
          "name": "stdout",
          "text": [
            "orange is not present in the text\n"
          ]
        }
      ]
    },
    {
      "cell_type": "code",
      "source": [],
      "metadata": {
        "id": "yX36cLOqoBwy"
      },
      "execution_count": null,
      "outputs": []
    },
    {
      "cell_type": "markdown",
      "source": [
        "## **13. Write a program to find the number of vowels, consonants, digits, and white**\n",
        "space characters in a string."
      ],
      "metadata": {
        "id": "oXslqilroGmK"
      }
    },
    {
      "cell_type": "code",
      "source": [
        "text = input(\"Enter a string:\")\n",
        "vowels = consonants = digits = space = 0\n",
        "for char in text:\n",
        "  if char.lower() in \"aeiou\":\n",
        "    vowels += 1\n",
        "  elif char.isalpha():\n",
        "    consonants +=1\n",
        "  elif char.isdigit():\n",
        "    digits +=1\n",
        "  elif char.isspace():\n",
        "    space +=1\n",
        "print(\"vowels:\",vowels)\n",
        "print(\"consonants:\",consonants)\n",
        "print(\"digits:\",digits)\n",
        "print(\"space:\",space)"
      ],
      "metadata": {
        "colab": {
          "base_uri": "https://localhost:8080/"
        },
        "id": "fgIUImBsoKF_",
        "outputId": "4f58b9e5-e725-44e1-81a0-de53a5c1f941"
      },
      "execution_count": 9,
      "outputs": [
        {
          "output_type": "stream",
          "name": "stdout",
          "text": [
            "Enter a string:Subhada 1996\n",
            "vowels: 3\n",
            "consonants: 4\n",
            "digits: 4\n",
            "space: 1\n"
          ]
        }
      ]
    },
    {
      "cell_type": "code",
      "source": [
        "#14. Write a Python program to count Uppercase, Lowercase, special character,\n",
        "#and numeric values in a given string.\n",
        "text = input(\"Enter a string: \")\n",
        "\n",
        "uppercase = lowercase = digits = special_chars = 0\n",
        "\n",
        "for char in text:\n",
        "    if char.isupper():\n",
        "        uppercase += 1\n",
        "    elif char.islower():\n",
        "        lowercase += 1\n",
        "    elif char.isdigit():\n",
        "        digits += 1\n",
        "    else:\n",
        "        special_chars += 1\n",
        "\n",
        "print(\"Uppercase letters:\", uppercase)\n",
        "print(\"Lowercase letters:\", lowercase)\n",
        "print(\"Digits:\", digits)\n",
        "print(\"Special characters:\", special_chars)"
      ],
      "metadata": {
        "colab": {
          "base_uri": "https://localhost:8080/"
        },
        "id": "rqvweOfAp-oq",
        "outputId": "5979c0b0-d901-49a9-b292-138a48f226bf"
      },
      "execution_count": 10,
      "outputs": [
        {
          "output_type": "stream",
          "name": "stdout",
          "text": [
            "Enter a string: kuldeep\n",
            "Uppercase letters: 0\n",
            "Lowercase letters: 7\n",
            "Digits: 0\n",
            "Special characters: 0\n"
          ]
        }
      ]
    },
    {
      "cell_type": "code",
      "source": [
        "#15. Write a program to make a new string with all the consonants deleted from the\n",
        "#string \"Hello, have a good day\".\n",
        "text = \"Hello, have a good day\"\n",
        "\n",
        "vowels = \"aeiouAEIOU\"\n",
        "\n",
        "new_string = \"\".join(char for char in text if char in vowels or not char.isalpha())\n",
        "\n",
        "print(\"String after removing consonants:\", new_string)"
      ],
      "metadata": {
        "colab": {
          "base_uri": "https://localhost:8080/"
        },
        "id": "pQ2dQKOYqTse",
        "outputId": "2bd72c6d-0761-478c-988e-1eba447c2004"
      },
      "execution_count": 11,
      "outputs": [
        {
          "output_type": "stream",
          "name": "stdout",
          "text": [
            "String after removing consonants: eo, ae a oo a\n"
          ]
        }
      ]
    },
    {
      "cell_type": "code",
      "source": [
        "#16. Write a Python program to remove the nth index character from a non-empty string.\n",
        "text = \"Python \"\n",
        "n = 2\n",
        "new_text = text[:n] + text[n+1:]\n",
        "print(\"Updated string:\", new_text)"
      ],
      "metadata": {
        "colab": {
          "base_uri": "https://localhost:8080/"
        },
        "id": "tpC-KIzlqCf7",
        "outputId": "10a51ac0-c8d6-4480-a6ef-88248830d8b2"
      },
      "execution_count": 12,
      "outputs": [
        {
          "output_type": "stream",
          "name": "stdout",
          "text": [
            "Updated string: Pyhon \n"
          ]
        }
      ]
    },
    {
      "cell_type": "code",
      "source": [
        "# 17. Write a Python program to change a given string to a new string where the first and last characters have been exchanged.\n",
        "string = \"subha\"\n",
        "new_string = string[-1] + string[1:-1] + string[0]\n",
        "print(\"Updated string:\", new_string)"
      ],
      "metadata": {
        "colab": {
          "base_uri": "https://localhost:8080/"
        },
        "id": "qYZklMmUrjM6",
        "outputId": "d3865882-30b0-483d-a685-0ef60255ce07"
      },
      "execution_count": 13,
      "outputs": [
        {
          "output_type": "stream",
          "name": "stdout",
          "text": [
            "Updated string: aubhs\n"
          ]
        }
      ]
    },
    {
      "cell_type": "code",
      "source": [
        "#  18. Write a Python program to count the occurrences of each word in a given sentence.\n",
        "text = input(\"Enter a sentence: \")\n",
        "\n",
        "words = text.split()\n",
        "\n",
        "word_count = {}\n",
        "\n",
        "for word in words:\n",
        "    word_count[word] = word_count.get(word, 0) + 1\n",
        "\n",
        "for word, count in word_count.items():\n",
        "    print(f\"'{word}': {count}\")\n"
      ],
      "metadata": {
        "colab": {
          "base_uri": "https://localhost:8080/"
        },
        "id": "-V2pvytVrjbO",
        "outputId": "eb8bcc2b-7fa9-4ff6-fd4f-3edc7fdcad1c"
      },
      "execution_count": 18,
      "outputs": [
        {
          "output_type": "stream",
          "name": "stdout",
          "text": [
            "Enter a sentence: the littel on is a baby boss\n",
            "'the': 1\n",
            "'littel': 1\n",
            "'on': 1\n",
            "'is': 1\n",
            "'a': 1\n",
            "'baby': 1\n",
            "'boss': 1\n"
          ]
        }
      ]
    },
    {
      "cell_type": "code",
      "source": [
        "#19. How do you count the occurrence of a given character in a string?\n",
        "text = \" hello world\"\n",
        "char = \"o\"\n",
        "count = text.count(char)\n",
        "print(\"count of\",char,\"is\",count)"
      ],
      "metadata": {
        "colab": {
          "base_uri": "https://localhost:8080/"
        },
        "id": "9soEEcEzsmQM",
        "outputId": "2b3dbcbd-ae55-4a82-daa9-34601fe8718e"
      },
      "execution_count": 17,
      "outputs": [
        {
          "output_type": "stream",
          "name": "stdout",
          "text": [
            "count of o is 2\n"
          ]
        }
      ]
    },
    {
      "cell_type": "code",
      "source": [
        "# 20. Write a program to find last 10 characters of a string?\n",
        "text = input(\"Enter a string: \")\n",
        "\n",
        "last_10_chars = text[-10:]\n",
        "\n",
        "print(\"Last 10 characters:\", last_10_chars)"
      ],
      "metadata": {
        "colab": {
          "base_uri": "https://localhost:8080/"
        },
        "id": "1s0eXYWtt3cb",
        "outputId": "a060944d-0613-47d1-8efc-263024d1f57c"
      },
      "execution_count": 20,
      "outputs": [
        {
          "output_type": "stream",
          "name": "stdout",
          "text": [
            "Enter a string: Enter a string: Hello, this is Python programming.\n",
            "Last 10 characters: ogramming.\n"
          ]
        }
      ]
    },
    {
      "cell_type": "code",
      "source": [
        "#21. WAP to convert a given string to all uppercase if it contains at least 2 uppercase characters in the first 4 characters.\n",
        "text = input(\"Enter a string: \")\n",
        "\n",
        "uppercase_count = 0\n",
        "\n",
        "for char in text[:4]:\n",
        "    if char.isupper():\n",
        "        uppercase_count += 1\n",
        "\n",
        "if uppercase_count >= 2:\n",
        "    text = text.upper()\n",
        "\n",
        "print(\"Updated string:\", text)"
      ],
      "metadata": {
        "colab": {
          "base_uri": "https://localhost:8080/"
        },
        "id": "go4ui33Ct3gG",
        "outputId": "5987e87f-7655-4478-f401-81daf46de7a1"
      },
      "execution_count": 22,
      "outputs": [
        {
          "output_type": "stream",
          "name": "stdout",
          "text": [
            "Enter a string:  PYthon is fun\n",
            "Updated string:  PYTHON IS FUN\n"
          ]
        }
      ]
    },
    {
      "cell_type": "code",
      "source": [],
      "metadata": {
        "id": "1kve_JwerjfR"
      },
      "execution_count": null,
      "outputs": []
    },
    {
      "cell_type": "code",
      "source": [],
      "metadata": {
        "id": "sle0DwbFrji7"
      },
      "execution_count": null,
      "outputs": []
    }
  ]
}