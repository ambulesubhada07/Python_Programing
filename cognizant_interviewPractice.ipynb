{
  "nbformat": 4,
  "nbformat_minor": 0,
  "metadata": {
    "colab": {
      "provenance": [],
      "authorship_tag": "ABX9TyOrQc1JFrmkM5hV80exzg0m",
      "include_colab_link": true
    },
    "kernelspec": {
      "name": "python3",
      "display_name": "Python 3"
    },
    "language_info": {
      "name": "python"
    }
  },
  "cells": [
    {
      "cell_type": "markdown",
      "metadata": {
        "id": "view-in-github",
        "colab_type": "text"
      },
      "source": [
        "<a href=\"https://colab.research.google.com/github/ambulesubhada07/Python_Programing/blob/main/cognizant_interviewPractice.ipynb\" target=\"_parent\"><img src=\"https://colab.research.google.com/assets/colab-badge.svg\" alt=\"Open In Colab\"/></a>"
      ]
    },
    {
      "cell_type": "code",
      "execution_count": null,
      "metadata": {
        "colab": {
          "base_uri": "https://localhost:8080/"
        },
        "id": "RXlVU_5Ca6PB",
        "outputId": "80dea6df-48e4-4d02-d99d-6e84051e4ba7"
      },
      "outputs": [
        {
          "output_type": "stream",
          "name": "stdout",
          "text": [
            "[1, 2, 3, 4, 5]\n",
            "(1, 2, 3, 4, 5)\n",
            "[1, 2, 3, 4, 5, 'a', 'b', 'c', 'd']\n"
          ]
        }
      ],
      "source": [
        "#Write a program for creating list and then concert it to tuple and join two list together\n",
        "list1 = [1, 2, 3, 4, 5]\n",
        "tuple1 = tuple(list1)\n",
        "list2 = [\"a\",\"b\", \"c\", \"d\"]\n",
        "together_list = list1+ list2\n",
        "print(list1)\n",
        "print(tuple1)\n",
        "print(together_list)"
      ]
    },
    {
      "cell_type": "code",
      "source": [
        "#Implement a function to reverse a linked list.\n",
        "\n"
      ],
      "metadata": {
        "id": "kvbLogomb1C5"
      },
      "execution_count": null,
      "outputs": []
    },
    {
      "cell_type": "code",
      "source": [
        "#Count the number of vowels in a string\n",
        "string = \"Hello , how are you?\"\n",
        "vowels = \"aeiouAEIOU\"\n",
        "count = 0\n",
        "for char in string:\n",
        "    if char in vowels:\n",
        "        count += 1\n",
        "print(count)"
      ],
      "metadata": {
        "colab": {
          "base_uri": "https://localhost:8080/"
        },
        "id": "0Ek-rr04b1NU",
        "outputId": "55a54a39-2625-473a-815c-f235feae04b9"
      },
      "execution_count": null,
      "outputs": [
        {
          "output_type": "stream",
          "name": "stdout",
          "text": [
            "7\n"
          ]
        }
      ]
    },
    {
      "cell_type": "code",
      "source": [
        "#reverse string\n",
        "s = 'aniket patil'\n",
        "ans = s[::-1]\n",
        "print(\"Reverse string:\",ans)"
      ],
      "metadata": {
        "colab": {
          "base_uri": "https://localhost:8080/"
        },
        "id": "DuR9j5Mfb1Uo",
        "outputId": "3f7c842b-f39a-4ecb-8918-3dc8c4c30fc0"
      },
      "execution_count": null,
      "outputs": [
        {
          "output_type": "stream",
          "name": "stdout",
          "text": [
            "Reverse string: litap tekina\n"
          ]
        }
      ]
    },
    {
      "cell_type": "code",
      "source": [
        "# if string is palindrom\n",
        "num = 1234\n",
        "reverse = int(str(num)[::-1])\n",
        "\n",
        "if num == reverse:\n",
        "  print('Palindrome')\n",
        "else:\n",
        "  print(\"Not Palindrome\")"
      ],
      "metadata": {
        "id": "Vx52TGKikiv1"
      },
      "execution_count": null,
      "outputs": []
    },
    {
      "cell_type": "code",
      "source": [
        "string = \"subhada\"\n",
        "reverse = str(string)[::-1]\n",
        "if string == reverse:\n",
        "  print(\"string is palindrome \")\n",
        "else:\n",
        " print(\"string is not palindrome \")"
      ],
      "metadata": {
        "colab": {
          "base_uri": "https://localhost:8080/"
        },
        "id": "rsBJgZeTkizK",
        "outputId": "5af99c14-d4e9-474d-bab1-4b92e9bb873e"
      },
      "execution_count": null,
      "outputs": [
        {
          "output_type": "stream",
          "name": "stdout",
          "text": [
            "string is not palindrome \n"
          ]
        }
      ]
    },
    {
      "cell_type": "code",
      "source": [
        "string = \"madam\"\n",
        "reverse = str(string)[::-1]\n",
        "if string == reverse:\n",
        "  print(\"string is palindrome \")\n",
        "else:\n",
        " print(\"string is not palindrome \")"
      ],
      "metadata": {
        "colab": {
          "base_uri": "https://localhost:8080/"
        },
        "id": "wOnAf2bdki2-",
        "outputId": "ac21dda6-6ca0-437c-d45c-b79b961cb418"
      },
      "execution_count": null,
      "outputs": [
        {
          "output_type": "stream",
          "name": "stdout",
          "text": [
            "string is palindrome \n"
          ]
        }
      ]
    },
    {
      "cell_type": "code",
      "source": [],
      "metadata": {
        "id": "BD3-AJqYmvvz"
      },
      "execution_count": null,
      "outputs": []
    },
    {
      "cell_type": "code",
      "source": [],
      "metadata": {
        "id": "W6SbpUfXmvyt"
      },
      "execution_count": null,
      "outputs": []
    },
    {
      "cell_type": "code",
      "source": [],
      "metadata": {
        "id": "G73AAUTcmv1T"
      },
      "execution_count": null,
      "outputs": []
    }
  ]
}